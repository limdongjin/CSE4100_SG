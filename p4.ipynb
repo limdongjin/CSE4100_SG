{
 "cells": [
  {
   "cell_type": "code",
   "execution_count": 1,
   "metadata": {},
   "outputs": [],
   "source": [
    "import numpy"
   ]
  },
  {
   "cell_type": "code",
   "execution_count": 2,
   "metadata": {},
   "outputs": [],
   "source": [
    "def max_value_in_2_2_area(A, area_address):\n",
    "    '''\n",
    "    A array에서 area_address로 시작하는 2*2 area 에서의 최대 값을 리턴한다.\n",
    "    \n",
    "    format of A : 2d array\n",
    "    format of area_address : (number, number) \n",
    "    area_address[0] is X position\n",
    "    area_address[1] is Y position\n",
    "    '''\n",
    "    x = area_address[0]\n",
    "    y = area_address[1]\n",
    "    return max(A[y][x], A[y+1][x], A[y][x+1], A[y+1][x+1])"
   ]
  },
  {
   "cell_type": "code",
   "execution_count": 3,
   "metadata": {},
   "outputs": [],
   "source": [
    "def max_pooling(A, size):\n",
    "    '''\n",
    "     A array 를 max pooling 한다. \n",
    "    '''\n",
    "    xy_pairs = [(x, y) for y in range(size) for x in range(size) if x%2 == 0 and y%2 == 0]\n",
    "    result = numpy.ndarray(shape=(size//2,size//2))\n",
    "    for xy in xy_pairs:\n",
    "        result[xy[1]//2][xy[0]//2] = max_value_in_2_2_area(A, xy)\n",
    "    return result"
   ]
  },
  {
   "cell_type": "code",
   "execution_count": 4,
   "metadata": {},
   "outputs": [
    {
     "name": "stdin",
     "output_type": "stream",
     "text": [
      " 4\n"
     ]
    }
   ],
   "source": [
    "size = int(input()) # 사이즈를 입력받는다."
   ]
  },
  {
   "cell_type": "code",
   "execution_count": 5,
   "metadata": {},
   "outputs": [],
   "source": [
    "A = numpy.random.random((size, size))"
   ]
  },
  {
   "cell_type": "code",
   "execution_count": 6,
   "metadata": {},
   "outputs": [],
   "source": [
    "result = max_pooling(A, size)"
   ]
  },
  {
   "cell_type": "code",
   "execution_count": 7,
   "metadata": {},
   "outputs": [
    {
     "name": "stdout",
     "output_type": "stream",
     "text": [
      "[[0.33078125 0.63936165 0.76711583 0.74797025]\n",
      " [0.51239059 0.71990612 0.08331715 0.3988731 ]\n",
      " [0.73709248 0.11062834 0.82975353 0.53590238]\n",
      " [0.75333292 0.04496026 0.15716293 0.6007824 ]]\n"
     ]
    }
   ],
   "source": [
    "print(A)"
   ]
  },
  {
   "cell_type": "code",
   "execution_count": 8,
   "metadata": {},
   "outputs": [
    {
     "name": "stdout",
     "output_type": "stream",
     "text": [
      "[[0.71990612 0.76711583]\n",
      " [0.75333292 0.82975353]]\n"
     ]
    }
   ],
   "source": [
    "print(result)"
   ]
  },
  {
   "cell_type": "code",
   "execution_count": null,
   "metadata": {},
   "outputs": [],
   "source": []
  }
 ],
 "metadata": {
  "kernelspec": {
   "display_name": "Python 3",
   "language": "python",
   "name": "python3"
  },
  "language_info": {
   "codemirror_mode": {
    "name": "ipython",
    "version": 3
   },
   "file_extension": ".py",
   "mimetype": "text/x-python",
   "name": "python",
   "nbconvert_exporter": "python",
   "pygments_lexer": "ipython3",
   "version": "3.7.3"
  }
 },
 "nbformat": 4,
 "nbformat_minor": 2
}
