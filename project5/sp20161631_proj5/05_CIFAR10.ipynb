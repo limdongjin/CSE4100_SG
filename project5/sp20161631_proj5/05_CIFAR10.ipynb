{
  "nbformat": 4,
  "nbformat_minor": 0,
  "metadata": {
    "colab": {
      "name": "05.CIFAR10.ipynb",
      "version": "0.3.2",
      "provenance": [],
      "collapsed_sections": [
        "19Xdssgr-kxd",
        "CttH-ynKdaNq",
        "u9ykG_EHxT5y",
        "B0oTrbKHcZVV"
      ],
      "toc_visible": true
    },
    "kernelspec": {
      "name": "python3",
      "display_name": "Python 3"
    },
    "accelerator": "GPU"
  },
  "cells": [
    {
      "cell_type": "markdown",
      "metadata": {
        "id": "CttH-ynKdaNq",
        "colab_type": "text"
      },
      "source": [
        "# Import modules"
      ]
    },
    {
      "cell_type": "code",
      "metadata": {
        "id": "TPcE-cf03x1G",
        "colab_type": "code",
        "outputId": "f8b1456b-3c54-42ec-81a7-1d6d72164257",
        "colab": {
          "base_uri": "https://localhost:8080/",
          "height": 34
        }
      },
      "source": [
        "import keras\n",
        "from keras.datasets import cifar10\n",
        "from keras.models import Sequential\n",
        "from keras.layers import Dense, Dropout, Flatten, Activation, BatchNormalization\n",
        "from keras.layers import Conv2D, MaxPooling2D\n",
        "from keras import backend as K\n",
        "from keras.utils.vis_utils import model_to_dot\n",
        "from IPython.display import SVG\n",
        "%matplotlib inline\n",
        "import matplotlib.pyplot as plt\n",
        "from sklearn.metrics import confusion_matrix\n",
        "import pandas as pd\n",
        "import seaborn as sns"
      ],
      "execution_count": 1,
      "outputs": [
        {
          "output_type": "stream",
          "text": [
            "Using TensorFlow backend.\n"
          ],
          "name": "stderr"
        }
      ]
    },
    {
      "cell_type": "code",
      "metadata": {
        "id": "17L2b3EoEr9O",
        "colab_type": "code",
        "colab": {
          "base_uri": "https://localhost:8080/",
          "height": 54
        },
        "outputId": "52339401-32c8-4ba9-cf68-6e31ff5710bc"
      },
      "source": [
        "from keras.constraints import maxnorm\n",
        "from keras.callbacks import LearningRateScheduler\n",
        "from keras import regularizers\n",
        "import numpy as np\n",
        "from keras.preprocessing.image import ImageDataGenerator\n",
        "\n",
        "# from keras.callbacks import TensorBoard\n",
        "\n",
        "\n",
        "!pip install tensorboardcolab\n",
        "from tensorboardcolab import *"
      ],
      "execution_count": 2,
      "outputs": [
        {
          "output_type": "stream",
          "text": [
            "Requirement already satisfied: tensorboardcolab in /usr/local/lib/python3.6/dist-packages (0.0.22)\n"
          ],
          "name": "stdout"
        }
      ]
    },
    {
      "cell_type": "markdown",
      "metadata": {
        "id": "u9ykG_EHxT5y",
        "colab_type": "text"
      },
      "source": [
        "# Tuning parameters and callbacks"
      ]
    },
    {
      "cell_type": "code",
      "metadata": {
        "id": "56o20HESYkAB",
        "colab_type": "code",
        "colab": {}
      },
      "source": [
        "def tuning_parameters():\n",
        "  global epochs\n",
        "  global learning_rate\n",
        "  global batch_size\n",
        "  global num_classes\n",
        "  \n",
        "  epochs = 200\n",
        "  \n",
        "  learning_rate=0.01\n",
        "\n",
        "  batch_size = 64\n",
        "  \n",
        "  num_classes = 10"
      ],
      "execution_count": 0,
      "outputs": []
    },
    {
      "cell_type": "code",
      "metadata": {
        "id": "bpu8gMJiZEA8",
        "colab_type": "code",
        "colab": {}
      },
      "source": [
        "def init_callbacks():\n",
        "  my_callbacks = []\n",
        "  \n",
        "  from keras.callbacks import EarlyStopping\n",
        "  early_stopping = EarlyStopping(patience = 20)\n",
        "  \n",
        "  my_callbacks.append(early_stopping)\n",
        "  \n",
        "  tbc=TensorBoardColab()\n",
        "\n",
        "  my_callbacks.append(TensorBoardColabCallback(tbc))\n",
        "  \n",
        "  return my_callbacks"
      ],
      "execution_count": 0,
      "outputs": []
    },
    {
      "cell_type": "code",
      "metadata": {
        "id": "-8Fqbse-aB9O",
        "colab_type": "code",
        "outputId": "3953d1dd-7ad6-4faf-c5be-1ce7416fea20",
        "colab": {
          "base_uri": "https://localhost:8080/",
          "height": 69
        }
      },
      "source": [
        "tuning_parameters()\n",
        "my_callbacks = init_callbacks()"
      ],
      "execution_count": 5,
      "outputs": [
        {
          "output_type": "stream",
          "text": [
            "Wait for 8 seconds...\n",
            "TensorBoard link:\n",
            "https://61b4eb30.ngrok.io\n"
          ],
          "name": "stdout"
        }
      ]
    },
    {
      "cell_type": "code",
      "metadata": {
        "id": "KOApMFwgaLan",
        "colab_type": "code",
        "colab": {}
      },
      "source": [
        "# callbacks[0]"
      ],
      "execution_count": 0,
      "outputs": []
    },
    {
      "cell_type": "markdown",
      "metadata": {
        "id": "DTRy8O-Bloud",
        "colab_type": "text"
      },
      "source": [
        "# Data"
      ]
    },
    {
      "cell_type": "markdown",
      "metadata": {
        "id": "B0oTrbKHcZVV",
        "colab_type": "text"
      },
      "source": [
        "## Plot image"
      ]
    },
    {
      "cell_type": "code",
      "metadata": {
        "id": "3SSeHKiggedo",
        "colab_type": "code",
        "colab": {}
      },
      "source": [
        "def plot_images(x, y_true, y_pred=None, size=(5, 5)):\n",
        "    assert len(x) == len(y_true) == size[0] * size[1]\n",
        "    \n",
        "    fig, axes = plt.subplots(size[0], size[1])\n",
        "    fig.subplots_adjust(hspace=0.5, wspace=0.1)\n",
        "\n",
        "    for i, ax in enumerate(axes.flat):\n",
        "        if x[i].shape[-1] == 1:\n",
        "          ax.imshow(x[i].reshape(x[i].shape[0], x[i].shape[1]))\n",
        "        else:\n",
        "          ax.imshow(x[i])\n",
        "\n",
        "        if y_pred is None:\n",
        "            xlabel = \"True: {0}\".format(y_true[i].argmax())\n",
        "        else:\n",
        "            xlabel = \"True: {0}, Pred: {1}\".format(y_true[i].argmax(), \n",
        "                                                   y_pred[i].argmax())\n",
        "\n",
        "        ax.set_xlabel(xlabel)\n",
        "        \n",
        "        ax.set_xticks([])\n",
        "        ax.set_yticks([])\n",
        "\n",
        "    plt.show()"
      ],
      "execution_count": 0,
      "outputs": []
    },
    {
      "cell_type": "markdown",
      "metadata": {
        "id": "OmEH-fu2exDv",
        "colab_type": "text"
      },
      "source": [
        "## Load dataset"
      ]
    },
    {
      "cell_type": "code",
      "metadata": {
        "id": "vk-aKTUq37Mp",
        "colab_type": "code",
        "colab": {}
      },
      "source": [
        "(x_train, y_train), (x_test, y_test) = cifar10.load_data()"
      ],
      "execution_count": 0,
      "outputs": []
    },
    {
      "cell_type": "code",
      "metadata": {
        "id": "Zmsp0SpuF_yj",
        "colab_type": "code",
        "outputId": "af2ac44b-7621-48cc-fe71-b046d0732f4e",
        "colab": {
          "base_uri": "https://localhost:8080/",
          "height": 34
        }
      },
      "source": [
        "len(x_train.shape)"
      ],
      "execution_count": 9,
      "outputs": [
        {
          "output_type": "execute_result",
          "data": {
            "text/plain": [
              "4"
            ]
          },
          "metadata": {
            "tags": []
          },
          "execution_count": 9
        }
      ]
    },
    {
      "cell_type": "markdown",
      "metadata": {
        "id": "2R_RYuFvxkxG",
        "colab_type": "text"
      },
      "source": [
        "## Reshaping the data"
      ]
    },
    {
      "cell_type": "code",
      "metadata": {
        "id": "Wjwu-mJbyA8M",
        "colab_type": "code",
        "colab": {}
      },
      "source": [
        "if len(x_train.shape) < 4:\n",
        "  x_train = x_train.reshape(x_train.shape[0], x_train.shape[1], x_train.shape[2], 1)\n",
        "  x_test = x_test.reshape(x_test.shape[0], x_train.shape[1], x_train.shape[2], 1)"
      ],
      "execution_count": 0,
      "outputs": []
    },
    {
      "cell_type": "code",
      "metadata": {
        "id": "JHL9_0sE3_1Q",
        "colab_type": "code",
        "outputId": "5763ee4d-add3-492f-eb0d-2ee800614613",
        "colab": {
          "base_uri": "https://localhost:8080/",
          "height": 69
        }
      },
      "source": [
        "x_train = x_train.astype('float32')\n",
        "x_test = x_test.astype('float32')\n",
        "\n",
        "x_train /= 255.0\n",
        "x_test /= 255.0\n",
        "\n",
        "print('x_train shape:', x_train.shape)\n",
        "print(x_train.shape[0], 'train samples')\n",
        "print(x_test.shape[0], 'test samples')\n",
        "# print(mean, std)"
      ],
      "execution_count": 11,
      "outputs": [
        {
          "output_type": "stream",
          "text": [
            "x_train shape: (50000, 32, 32, 3)\n",
            "50000 train samples\n",
            "10000 test samples\n"
          ],
          "name": "stdout"
        }
      ]
    },
    {
      "cell_type": "markdown",
      "metadata": {
        "id": "68q5tqqkvFj_",
        "colab_type": "text"
      },
      "source": [
        "## Applying One hot encoding for the data"
      ]
    },
    {
      "cell_type": "code",
      "metadata": {
        "id": "w5hI-8096XMy",
        "colab_type": "code",
        "colab": {}
      },
      "source": [
        ""
      ],
      "execution_count": 0,
      "outputs": []
    },
    {
      "cell_type": "code",
      "metadata": {
        "id": "SW-9tcS3vGTT",
        "colab_type": "code",
        "colab": {}
      },
      "source": [
        "y_train = keras.utils.to_categorical(y_train, num_classes)\n",
        "y_test = keras.utils.to_categorical(y_test, num_classes)"
      ],
      "execution_count": 0,
      "outputs": []
    },
    {
      "cell_type": "markdown",
      "metadata": {
        "id": "_kkozXvddyyB",
        "colab_type": "text"
      },
      "source": [
        "## Show data"
      ]
    },
    {
      "cell_type": "code",
      "metadata": {
        "id": "tHO8KB8zd1vp",
        "colab_type": "code",
        "outputId": "0cabdd07-4e13-4ca2-d9e5-82680e07b583",
        "colab": {
          "base_uri": "https://localhost:8080/",
          "height": 266
        }
      },
      "source": [
        "plot_images(x_train[:25], y_train[:25])"
      ],
      "execution_count": 13,
      "outputs": [
        {
          "output_type": "display_data",
          "data": {
            "image/png": "[encoded data removed]",
            "text/plain": [
              "<Figure size 432x288 with 25 Axes>"
            ]
          },
          "metadata": {
            "tags": []
          }
        }
      ]
    },
    {
      "cell_type": "markdown",
      "metadata": {
        "id": "fytNaqPMy0uf",
        "colab_type": "text"
      },
      "source": [
        "# Creating the DNN model"
      ]
    },
    {
      "cell_type": "code",
      "metadata": {
        "id": "mG8PTsJ3CoF5",
        "colab_type": "code",
        "outputId": "263cee7b-1db3-47ff-8a33-d0b6021bf483",
        "colab": {
          "base_uri": "https://localhost:8080/",
          "height": 34
        }
      },
      "source": [
        "x_train.shape[1:]"
      ],
      "execution_count": 14,
      "outputs": [
        {
          "output_type": "execute_result",
          "data": {
            "text/plain": [
              "(32, 32, 3)"
            ]
          },
          "metadata": {
            "tags": []
          },
          "execution_count": 14
        }
      ]
    },
    {
      "cell_type": "code",
      "metadata": {
        "id": "p5P1W5284GnQ",
        "colab_type": "code",
        "colab": {}
      },
      "source": [
        "def make_model():\n",
        "  global model\n",
        "  weight_decay = 1e-4\n",
        "  model = Sequential()\n",
        "  model.add(Conv2D(32, (3,3), padding='same', kernel_regularizer=regularizers.l2(weight_decay), input_shape=x_train.shape[1:]))\n",
        "  model.add(Activation('elu'))\n",
        "  model.add(BatchNormalization())\n",
        "  model.add(Conv2D(32, (3,3), padding='same', kernel_regularizer=regularizers.l2(weight_decay)))\n",
        "  model.add(Activation('elu'))\n",
        "  model.add(BatchNormalization())\n",
        "  model.add(MaxPooling2D(pool_size=(2,2)))\n",
        "  model.add(Dropout(0.2))\n",
        "\n",
        "  model.add(Conv2D(64, (3,3), padding='same', kernel_regularizer=regularizers.l2(weight_decay)))\n",
        "  model.add(Activation('elu'))\n",
        "  model.add(BatchNormalization())\n",
        "  model.add(Conv2D(64, (3,3), padding='same', kernel_regularizer=regularizers.l2(weight_decay)))\n",
        "  model.add(Activation('elu'))\n",
        "  model.add(BatchNormalization())\n",
        "  model.add(MaxPooling2D(pool_size=(2,2)))\n",
        "  model.add(Dropout(0.3))\n",
        "\n",
        "  model.add(Conv2D(128, (3,3), padding='same', kernel_regularizer=regularizers.l2(weight_decay)))\n",
        "  model.add(Activation('elu'))\n",
        "  model.add(BatchNormalization())\n",
        "  model.add(Conv2D(128, (3,3), padding='same', kernel_regularizer=regularizers.l2(weight_decay)))\n",
        "  model.add(Activation('elu'))\n",
        "  model.add(BatchNormalization())\n",
        "  model.add(MaxPooling2D(pool_size=(2,2)))\n",
        "  model.add(Dropout(0.4))\n",
        "\n",
        "  model.add(Flatten())\n",
        "  \n",
        "  model.add(Dense(num_classes, activation='softmax'))"
      ],
      "execution_count": 0,
      "outputs": []
    },
    {
      "cell_type": "code",
      "metadata": {
        "id": "8ACUHK6w5T2X",
        "colab_type": "code",
        "colab": {}
      },
      "source": [
        "def lr_schedule(epoch):\n",
        "    lrate = 0.01\n",
        "    if epoch > 75:\n",
        "        lrate = 0.005\n",
        "    if epoch > 100:\n",
        "        lrate = 0.003\n",
        "    return lrate"
      ],
      "execution_count": 0,
      "outputs": []
    },
    {
      "cell_type": "markdown",
      "metadata": {
        "id": "lPMMeqHp6YPU",
        "colab_type": "text"
      },
      "source": [
        ""
      ]
    },
    {
      "cell_type": "code",
      "metadata": {
        "id": "l2521PYTbICC",
        "colab_type": "code",
        "outputId": "499c6a17-1b83-43c8-8c31-c68d31a8b7e1",
        "colab": {
          "base_uri": "https://localhost:8080/",
          "height": 142
        }
      },
      "source": [
        "make_model()"
      ],
      "execution_count": 17,
      "outputs": [
        {
          "output_type": "stream",
          "text": [
            "WARNING:tensorflow:From /usr/local/lib/python3.6/dist-packages/tensorflow/python/framework/op_def_library.py:263: colocate_with (from tensorflow.python.framework.ops) is deprecated and will be removed in a future version.\n",
            "Instructions for updating:\n",
            "Colocations handled automatically by placer.\n",
            "WARNING:tensorflow:From /usr/local/lib/python3.6/dist-packages/keras/backend/tensorflow_backend.py:3445: calling dropout (from tensorflow.python.ops.nn_ops) with keep_prob is deprecated and will be removed in a future version.\n",
            "Instructions for updating:\n",
            "Please use `rate` instead of `keep_prob`. Rate should be set to `rate = 1 - keep_prob`.\n"
          ],
          "name": "stdout"
        }
      ]
    },
    {
      "cell_type": "code",
      "metadata": {
        "id": "l3hi0kCp4rgS",
        "colab_type": "code",
        "colab": {}
      },
      "source": [
        "# opt_rms = keras.optimizers.rmsprop(lr=0.001,decay=1e-6)\n",
        "\n",
        "# model.compile(loss='categorical_crossentropy', optimizer=opt_rms, metrics=['accuracy'])\n",
        "\n",
        "# model.fit_generator(datagen.flow(x_train, y_train, batch_size=batch_size),\\\n",
        "#                     steps_per_epoch=x_train.shape[0] // batch_size,epochs=125,\\\n",
        "#                     verbose=1,validation_data=(x_test,y_test),\n",
        "#                     callbacks=[LearningRateScheduler(lr_schedule)])"
      ],
      "execution_count": 0,
      "outputs": []
    },
    {
      "cell_type": "markdown",
      "metadata": {
        "id": "OMyvB4TX0RSq",
        "colab_type": "text"
      },
      "source": [
        "## Visualization the model"
      ]
    },
    {
      "cell_type": "code",
      "metadata": {
        "id": "0MaPfFRj0Tp7",
        "colab_type": "code",
        "outputId": "dfa16f29-12e9-4c8d-bff4-5bd0bb66d6e8",
        "colab": {
          "base_uri": "https://localhost:8080/",
          "height": 2958
        }
      },
      "source": [
        "SVG(model_to_dot(model, show_shapes=True).create(prog='dot', format='svg'))"
      ],
      "execution_count": 19,
      "outputs": [
        {
          "output_type": "execute_result",
          "data": {
            "text/plain": [
              "<IPython.core.display.SVG object>"
            ],
            "image/svg+xml": "<svg height=\"2203pt\" viewBox=\"0.00 0.00 462.00 2203.00\" width=\"462pt\" xmlns=\"http://www.w3.org/2000/svg\" xmlns:xlink=\"http://www.w3.org/1999/xlink\">\n<g class=\"graph\" id=\"graph0\" transform=\"scale(1 1) rotate(0) translate(4 2199)\">\n<title>G</title>\n<polygon fill=\"#ffffff\" points=\"-4,4 -4,-2199 458,-2199 458,4 -4,4\" stroke=\"transparent\"/>\n<!-- 139807756956952 -->\n<g class=\"node\" id=\"node1\">\n<title>139807756956952</title>\n<polygon fill=\"none\" points=\"69,-2075.5 69,-2121.5 385,-2121.5 385,-2075.5 69,-2075.5\" stroke=\"#000000\"/>\n<text fill=\"#000000\" font-family=\"Times,serif\" font-size=\"14.00\" text-anchor=\"middle\" x=\"135.5\" y=\"-2094.8\">conv2d_1: Conv2D</text>\n<polyline fill=\"none\" points=\"202,-2075.5 202,-2121.5 \" stroke=\"#000000\"/>\n<text fill=\"#000000\" font-family=\"Times,serif\" font-size=\"14.00\" text-anchor=\"middle\" x=\"231\" y=\"-2106.3\">input:</text>\n<polyline fill=\"none\" points=\"202,-2098.5 260,-2098.5 \" stroke=\"#000000\"/>\n<text fill=\"#000000\" font-family=\"Times,serif\" font-size=\"14.00\" text-anchor=\"middle\" x=\"231\" y=\"-2083.3\">output:</text>\n<polyline fill=\"none\" points=\"260,-2075.5 260,-2121.5 \" stroke=\"#000000\"/>\n<text fill=\"#000000\" font-family=\"Times,serif\" font-size=\"14.00\" text-anchor=\"middle\" x=\"322.5\" y=\"-2106.3\">(None, 32, 32, 3)</text>\n<polyline fill=\"none\" points=\"260,-2098.5 385,-2098.5 \" stroke=\"#000000\"/>\n<text fill=\"#000000\" font-family=\"Times,serif\" font-size=\"14.00\" text-anchor=\"middle\" x=\"322.5\" y=\"-2083.3\">(None, 32, 32, 32)</text>\n</g>\n<!-- 139807799302688 -->\n<g class=\"node\" id=\"node2\">\n<title>139807799302688</title>\n<polygon fill=\"none\" points=\"58.5,-1992.5 58.5,-2038.5 395.5,-2038.5 395.5,-1992.5 58.5,-1992.5\" stroke=\"#000000\"/>\n<text fill=\"#000000\" font-family=\"Times,serif\" font-size=\"14.00\" text-anchor=\"middle\" x=\"135.5\" y=\"-2011.8\">activation_1: Activation</text>\n<polyline fill=\"none\" points=\"212.5,-1992.5 212.5,-2038.5 \" stroke=\"#000000\"/>\n<text fill=\"#000000\" font-family=\"Times,serif\" font-size=\"14.00\" text-anchor=\"middle\" x=\"241.5\" y=\"-2023.3\">input:</text>\n<polyline fill=\"none\" points=\"212.5,-2015.5 270.5,-2015.5 \" stroke=\"#000000\"/>\n<text fill=\"#000000\" font-family=\"Times,serif\" font-size=\"14.00\" text-anchor=\"middle\" x=\"241.5\" y=\"-2000.3\">output:</text>\n<polyline fill=\"none\" points=\"270.5,-1992.5 270.5,-2038.5 \" stroke=\"#000000\"/>\n<text fill=\"#000000\" font-family=\"Times,serif\" font-size=\"14.00\" text-anchor=\"middle\" x=\"333\" y=\"-2023.3\">(None, 32, 32, 32)</text>\n<polyline fill=\"none\" points=\"270.5,-2015.5 395.5,-2015.5 \" stroke=\"#000000\"/>\n<text fill=\"#000000\" font-family=\"Times,serif\" font-size=\"14.00\" text-anchor=\"middle\" x=\"333\" y=\"-2000.3\">(None, 32, 32, 32)</text>\n</g>\n<!-- 139807756956952&#45;&gt;139807799302688 -->\n<g class=\"edge\" id=\"edge2\">\n<title>139807756956952-&gt;139807799302688</title>\n<path d=\"M227,-2075.3799C227,-2067.1745 227,-2057.7679 227,-2048.8786\" fill=\"none\" stroke=\"#000000\"/>\n<polygon fill=\"#000000\" points=\"230.5001,-2048.784 227,-2038.784 223.5001,-2048.784 230.5001,-2048.784\" stroke=\"#000000\"/>\n</g>\n<!-- 139807799301008 -->\n<g class=\"node\" id=\"node3\">\n<title>139807799301008</title>\n<polygon fill=\"none\" points=\"0,-1909.5 0,-1955.5 454,-1955.5 454,-1909.5 0,-1909.5\" stroke=\"#000000\"/>\n<text fill=\"#000000\" font-family=\"Times,serif\" font-size=\"14.00\" text-anchor=\"middle\" x=\"135.5\" y=\"-1928.8\">batch_normalization_1: BatchNormalization</text>\n<polyline fill=\"none\" points=\"271,-1909.5 271,-1955.5 \" stroke=\"#000000\"/>\n<text fill=\"#000000\" font-family=\"Times,serif\" font-size=\"14.00\" text-anchor=\"middle\" x=\"300\" y=\"-1940.3\">input:</text>\n<polyline fill=\"none\" points=\"271,-1932.5 329,-1932.5 \" stroke=\"#000000\"/>\n<text fill=\"#000000\" font-family=\"Times,serif\" font-size=\"14.00\" text-anchor=\"middle\" x=\"300\" y=\"-1917.3\">output:</text>\n<polyline fill=\"none\" points=\"329,-1909.5 329,-1955.5 \" stroke=\"#000000\"/>\n<text fill=\"#000000\" font-family=\"Times,serif\" font-size=\"14.00\" text-anchor=\"middle\" x=\"391.5\" y=\"-1940.3\">(None, 32, 32, 32)</text>\n<polyline fill=\"none\" points=\"329,-1932.5 454,-1932.5 \" stroke=\"#000000\"/>\n<text fill=\"#000000\" font-family=\"Times,serif\" font-size=\"14.00\" text-anchor=\"middle\" x=\"391.5\" y=\"-1917.3\">(None, 32, 32, 32)</text>\n</g>\n<!-- 139807799302688&#45;&gt;139807799301008 -->\n<g class=\"edge\" id=\"edge3\">\n<title>139807799302688-&gt;139807799301008</title>\n<path d=\"M227,-1992.3799C227,-1984.1745 227,-1974.7679 227,-1965.8786\" fill=\"none\" stroke=\"#000000\"/>\n<polygon fill=\"#000000\" points=\"230.5001,-1965.784 227,-1955.784 223.5001,-1965.784 230.5001,-1965.784\" stroke=\"#000000\"/>\n</g>\n<!-- 139807722941128 -->\n<g class=\"node\" id=\"node4\">\n<title>139807722941128</title>\n<polygon fill=\"none\" points=\"69,-1826.5 69,-1872.5 385,-1872.5 385,-1826.5 69,-1826.5\" stroke=\"#000000\"/>\n<text fill=\"#000000\" font-family=\"Times,serif\" font-size=\"14.00\" text-anchor=\"middle\" x=\"135.5\" y=\"-1845.8\">conv2d_2: Conv2D</text>\n<polyline fill=\"none\" points=\"202,-1826.5 202,-1872.5 \" stroke=\"#000000\"/>\n<text fill=\"#000000\" font-family=\"Times,serif\" font-size=\"14.00\" text-anchor=\"middle\" x=\"231\" y=\"-1857.3\">input:</text>\n<polyline fill=\"none\" points=\"202,-1849.5 260,-1849.5 \" stroke=\"#000000\"/>\n<text fill=\"#000000\" font-family=\"Times,serif\" font-size=\"14.00\" text-anchor=\"middle\" x=\"231\" y=\"-1834.3\">output:</text>\n<polyline fill=\"none\" points=\"260,-1826.5 260,-1872.5 \" stroke=\"#000000\"/>\n<text fill=\"#000000\" font-family=\"Times,serif\" font-size=\"14.00\" text-anchor=\"middle\" x=\"322.5\" y=\"-1857.3\">(None, 32, 32, 32)</text>\n<polyline fill=\"none\" points=\"260,-1849.5 385,-1849.5 \" stroke=\"#000000\"/>\n<text fill=\"#000000\" font-family=\"Times,serif\" font-size=\"14.00\" text-anchor=\"middle\" x=\"322.5\" y=\"-1834.3\">(None, 32, 32, 32)</text>\n</g>\n<!-- 139807799301008&#45;&gt;139807722941128 -->\n<g class=\"edge\" id=\"edge4\">\n<title>139807799301008-&gt;139807722941128</title>\n<path d=\"M227,-1909.3799C227,-1901.1745 227,-1891.7679 227,-1882.8786\" fill=\"none\" stroke=\"#000000\"/>\n<polygon fill=\"#000000\" points=\"230.5001,-1882.784 227,-1872.784 223.5001,-1882.784 230.5001,-1882.784\" stroke=\"#000000\"/>\n</g>\n<!-- 139807495317992 -->\n<g class=\"node\" id=\"node5\">\n<title>139807495317992</title>\n<polygon fill=\"none\" points=\"58.5,-1743.5 58.5,-1789.5 395.5,-1789.5 395.5,-1743.5 58.5,-1743.5\" stroke=\"#000000\"/>\n<text fill=\"#000000\" font-family=\"Times,serif\" font-size=\"14.00\" text-anchor=\"middle\" x=\"135.5\" y=\"-1762.8\">activation_2: Activation</text>\n<polyline fill=\"none\" points=\"212.5,-1743.5 212.5,-1789.5 \" stroke=\"#000000\"/>\n<text fill=\"#000000\" font-family=\"Times,serif\" font-size=\"14.00\" text-anchor=\"middle\" x=\"241.5\" y=\"-1774.3\">input:</text>\n<polyline fill=\"none\" points=\"212.5,-1766.5 270.5,-1766.5 \" stroke=\"#000000\"/>\n<text fill=\"#000000\" font-family=\"Times,serif\" font-size=\"14.00\" text-anchor=\"middle\" x=\"241.5\" y=\"-1751.3\">output:</text>\n<polyline fill=\"none\" points=\"270.5,-1743.5 270.5,-1789.5 \" stroke=\"#000000\"/>\n<text fill=\"#000000\" font-family=\"Times,serif\" font-size=\"14.00\" text-anchor=\"middle\" x=\"333\" y=\"-1774.3\">(None, 32, 32, 32)</text>\n<polyline fill=\"none\" points=\"270.5,-1766.5 395.5,-1766.5 \" stroke=\"#000000\"/>\n<text fill=\"#000000\" font-family=\"Times,serif\" font-size=\"14.00\" text-anchor=\"middle\" x=\"333\" y=\"-1751.3\">(None, 32, 32, 32)</text>\n</g>\n<!-- 139807722941128&#45;&gt;139807495317992 -->\n<g class=\"edge\" id=\"edge5\">\n<title>139807722941128-&gt;139807495317992</title>\n<path d=\"M227,-1826.3799C227,-1818.1745 227,-1808.7679 227,-1799.8786\" fill=\"none\" stroke=\"#000000\"/>\n<polygon fill=\"#000000\" points=\"230.5001,-1799.784 227,-1789.784 223.5001,-1799.784 230.5001,-1799.784\" stroke=\"#000000\"/>\n</g>\n<!-- 139807495886944 -->\n<g class=\"node\" id=\"node6\">\n<title>139807495886944</title>\n<polygon fill=\"none\" points=\"0,-1660.5 0,-1706.5 454,-1706.5 454,-1660.5 0,-1660.5\" stroke=\"#000000\"/>\n<text fill=\"#000000\" font-family=\"Times,serif\" font-size=\"14.00\" text-anchor=\"middle\" x=\"135.5\" y=\"-1679.8\">batch_normalization_2: BatchNormalization</text>\n<polyline fill=\"none\" points=\"271,-1660.5 271,-1706.5 \" stroke=\"#000000\"/>\n<text fill=\"#000000\" font-family=\"Times,serif\" font-size=\"14.00\" text-anchor=\"middle\" x=\"300\" y=\"-1691.3\">input:</text>\n<polyline fill=\"none\" points=\"271,-1683.5 329,-1683.5 \" stroke=\"#000000\"/>\n<text fill=\"#000000\" font-family=\"Times,serif\" font-size=\"14.00\" text-anchor=\"middle\" x=\"300\" y=\"-1668.3\">output:</text>\n<polyline fill=\"none\" points=\"329,-1660.5 329,-1706.5 \" stroke=\"#000000\"/>\n<text fill=\"#000000\" font-family=\"Times,serif\" font-size=\"14.00\" text-anchor=\"middle\" x=\"391.5\" y=\"-1691.3\">(None, 32, 32, 32)</text>\n<polyline fill=\"none\" points=\"329,-1683.5 454,-1683.5 \" stroke=\"#000000\"/>\n<text fill=\"#000000\" font-family=\"Times,serif\" font-size=\"14.00\" text-anchor=\"middle\" x=\"391.5\" y=\"-1668.3\">(None, 32, 32, 32)</text>\n</g>\n<!-- 139807495317992&#45;&gt;139807495886944 -->\n<g class=\"edge\" id=\"edge6\">\n<title>139807495317992-&gt;139807495886944</title>\n<path d=\"M227,-1743.3799C227,-1735.1745 227,-1725.7679 227,-1716.8786\" fill=\"none\" stroke=\"#000000\"/>\n<polygon fill=\"#000000\" points=\"230.5001,-1716.784 227,-1706.784 223.5001,-1716.784 230.5001,-1716.784\" stroke=\"#000000\"/>\n</g>\n<!-- 139807495884984 -->\n<g class=\"node\" id=\"node7\">\n<title>139807495884984</title>\n<polygon fill=\"none\" points=\"25,-1577.5 25,-1623.5 429,-1623.5 429,-1577.5 25,-1577.5\" stroke=\"#000000\"/>\n<text fill=\"#000000\" font-family=\"Times,serif\" font-size=\"14.00\" text-anchor=\"middle\" x=\"135.5\" y=\"-1596.8\">max_pooling2d_1: MaxPooling2D</text>\n<polyline fill=\"none\" points=\"246,-1577.5 246,-1623.5 \" stroke=\"#000000\"/>\n<text fill=\"#000000\" font-family=\"Times,serif\" font-size=\"14.00\" text-anchor=\"middle\" x=\"275\" y=\"-1608.3\">input:</text>\n<polyline fill=\"none\" points=\"246,-1600.5 304,-1600.5 \" stroke=\"#000000\"/>\n<text fill=\"#000000\" font-family=\"Times,serif\" font-size=\"14.00\" text-anchor=\"middle\" x=\"275\" y=\"-1585.3\">output:</text>\n<polyline fill=\"none\" points=\"304,-1577.5 304,-1623.5 \" stroke=\"#000000\"/>\n<text fill=\"#000000\" font-family=\"Times,serif\" font-size=\"14.00\" text-anchor=\"middle\" x=\"366.5\" y=\"-1608.3\">(None, 32, 32, 32)</text>\n<polyline fill=\"none\" points=\"304,-1600.5 429,-1600.5 \" stroke=\"#000000\"/>\n<text fill=\"#000000\" font-family=\"Times,serif\" font-size=\"14.00\" text-anchor=\"middle\" x=\"366.5\" y=\"-1585.3\">(None, 16, 16, 32)</text>\n</g>\n<!-- 139807495886944&#45;&gt;139807495884984 -->\n<g class=\"edge\" id=\"edge7\">\n<title>139807495886944-&gt;139807495884984</title>\n<path d=\"M227,-1660.3799C227,-1652.1745 227,-1642.7679 227,-1633.8786\" fill=\"none\" stroke=\"#000000\"/>\n<polygon fill=\"#000000\" points=\"230.5001,-1633.784 227,-1623.784 223.5001,-1633.784 230.5001,-1633.784\" stroke=\"#000000\"/>\n</g>\n<!-- 139807494734120 -->\n<g class=\"node\" id=\"node8\">\n<title>139807494734120</title>\n<polygon fill=\"none\" points=\"68.5,-1494.5 68.5,-1540.5 385.5,-1540.5 385.5,-1494.5 68.5,-1494.5\" stroke=\"#000000\"/>\n<text fill=\"#000000\" font-family=\"Times,serif\" font-size=\"14.00\" text-anchor=\"middle\" x=\"135.5\" y=\"-1513.8\">dropout_1: Dropout</text>\n<polyline fill=\"none\" points=\"202.5,-1494.5 202.5,-1540.5 \" stroke=\"#000000\"/>\n<text fill=\"#000000\" font-family=\"Times,serif\" font-size=\"14.00\" text-anchor=\"middle\" x=\"231.5\" y=\"-1525.3\">input:</text>\n<polyline fill=\"none\" points=\"202.5,-1517.5 260.5,-1517.5 \" stroke=\"#000000\"/>\n<text fill=\"#000000\" font-family=\"Times,serif\" font-size=\"14.00\" text-anchor=\"middle\" x=\"231.5\" y=\"-1502.3\">output:</text>\n<polyline fill=\"none\" points=\"260.5,-1494.5 260.5,-1540.5 \" stroke=\"#000000\"/>\n<text fill=\"#000000\" font-family=\"Times,serif\" font-size=\"14.00\" text-anchor=\"middle\" x=\"323\" y=\"-1525.3\">(None, 16, 16, 32)</text>\n<polyline fill=\"none\" points=\"260.5,-1517.5 385.5,-1517.5 \" stroke=\"#000000\"/>\n<text fill=\"#000000\" font-family=\"Times,serif\" font-size=\"14.00\" text-anchor=\"middle\" x=\"323\" y=\"-1502.3\">(None, 16, 16, 32)</text>\n</g>\n<!-- 139807495884984&#45;&gt;139807494734120 -->\n<g class=\"edge\" id=\"edge8\">\n<title>139807495884984-&gt;139807494734120</title>\n<path d=\"M227,-1577.3799C227,-1569.1745 227,-1559.7679 227,-1550.8786\" fill=\"none\" stroke=\"#000000\"/>\n<polygon fill=\"#000000\" points=\"230.5001,-1550.784 227,-1540.784 223.5001,-1550.784 230.5001,-1550.784\" stroke=\"#000000\"/>\n</g>\n<!-- 139807495052536 -->\n<g class=\"node\" id=\"node9\">\n<title>139807495052536</title>\n<polygon fill=\"none\" points=\"69,-1411.5 69,-1457.5 385,-1457.5 385,-1411.5 69,-1411.5\" stroke=\"#000000\"/>\n<text fill=\"#000000\" font-family=\"Times,serif\" font-size=\"14.00\" text-anchor=\"middle\" x=\"135.5\" y=\"-1430.8\">conv2d_3: Conv2D</text>\n<polyline fill=\"none\" points=\"202,-1411.5 202,-1457.5 \" stroke=\"#000000\"/>\n<text fill=\"#000000\" font-family=\"Times,serif\" font-size=\"14.00\" text-anchor=\"middle\" x=\"231\" y=\"-1442.3\">input:</text>\n<polyline fill=\"none\" points=\"202,-1434.5 260,-1434.5 \" stroke=\"#000000\"/>\n<text fill=\"#000000\" font-family=\"Times,serif\" font-size=\"14.00\" text-anchor=\"middle\" x=\"231\" y=\"-1419.3\">output:</text>\n<polyline fill=\"none\" points=\"260,-1411.5 260,-1457.5 \" stroke=\"#000000\"/>\n<text fill=\"#000000\" font-family=\"Times,serif\" font-size=\"14.00\" text-anchor=\"middle\" x=\"322.5\" y=\"-1442.3\">(None, 16, 16, 32)</text>\n<polyline fill=\"none\" points=\"260,-1434.5 385,-1434.5 \" stroke=\"#000000\"/>\n<text fill=\"#000000\" font-family=\"Times,serif\" font-size=\"14.00\" text-anchor=\"middle\" x=\"322.5\" y=\"-1419.3\">(None, 16, 16, 64)</text>\n</g>\n<!-- 139807494734120&#45;&gt;139807495052536 -->\n<g class=\"edge\" id=\"edge9\">\n<title>139807494734120-&gt;139807495052536</title>\n<path d=\"M227,-1494.3799C227,-1486.1745 227,-1476.7679 227,-1467.8786\" fill=\"none\" stroke=\"#000000\"/>\n<polygon fill=\"#000000\" points=\"230.5001,-1467.784 227,-1457.784 223.5001,-1467.784 230.5001,-1467.784\" stroke=\"#000000\"/>\n</g>\n<!-- 139807494027584 -->\n<g class=\"node\" id=\"node10\">\n<title>139807494027584</title>\n<polygon fill=\"none\" points=\"58.5,-1328.5 58.5,-1374.5 395.5,-1374.5 395.5,-1328.5 58.5,-1328.5\" stroke=\"#000000\"/>\n<text fill=\"#000000\" font-family=\"Times,serif\" font-size=\"14.00\" text-anchor=\"middle\" x=\"135.5\" y=\"-1347.8\">activation_3: Activation</text>\n<polyline fill=\"none\" points=\"212.5,-1328.5 212.5,-1374.5 \" stroke=\"#000000\"/>\n<text fill=\"#000000\" font-family=\"Times,serif\" font-size=\"14.00\" text-anchor=\"middle\" x=\"241.5\" y=\"-1359.3\">input:</text>\n<polyline fill=\"none\" points=\"212.5,-1351.5 270.5,-1351.5 \" stroke=\"#000000\"/>\n<text fill=\"#000000\" font-family=\"Times,serif\" font-size=\"14.00\" text-anchor=\"middle\" x=\"241.5\" y=\"-1336.3\">output:</text>\n<polyline fill=\"none\" points=\"270.5,-1328.5 270.5,-1374.5 \" stroke=\"#000000\"/>\n<text fill=\"#000000\" font-family=\"Times,serif\" font-size=\"14.00\" text-anchor=\"middle\" x=\"333\" y=\"-1359.3\">(None, 16, 16, 64)</text>\n<polyline fill=\"none\" points=\"270.5,-1351.5 395.5,-1351.5 \" stroke=\"#000000\"/>\n<text fill=\"#000000\" font-family=\"Times,serif\" font-size=\"14.00\" text-anchor=\"middle\" x=\"333\" y=\"-1336.3\">(None, 16, 16, 64)</text>\n</g>\n<!-- 139807495052536&#45;&gt;139807494027584 -->\n<g class=\"edge\" id=\"edge10\">\n<title>139807495052536-&gt;139807494027584</title>\n<path d=\"M227,-1411.3799C227,-1403.1745 227,-1393.7679 227,-1384.8786\" fill=\"none\" stroke=\"#000000\"/>\n<polygon fill=\"#000000\" points=\"230.5001,-1384.784 227,-1374.784 223.5001,-1384.784 230.5001,-1384.784\" stroke=\"#000000\"/>\n</g>\n<!-- 139807494417656 -->\n<g class=\"node\" id=\"node11\">\n<title>139807494417656</title>\n<polygon fill=\"none\" points=\"0,-1245.5 0,-1291.5 454,-1291.5 454,-1245.5 0,-1245.5\" stroke=\"#000000\"/>\n<text fill=\"#000000\" font-family=\"Times,serif\" font-size=\"14.00\" text-anchor=\"middle\" x=\"135.5\" y=\"-1264.8\">batch_normalization_3: BatchNormalization</text>\n<polyline fill=\"none\" points=\"271,-1245.5 271,-1291.5 \" stroke=\"#000000\"/>\n<text fill=\"#000000\" font-family=\"Times,serif\" font-size=\"14.00\" text-anchor=\"middle\" x=\"300\" y=\"-1276.3\">input:</text>\n<polyline fill=\"none\" points=\"271,-1268.5 329,-1268.5 \" stroke=\"#000000\"/>\n<text fill=\"#000000\" font-family=\"Times,serif\" font-size=\"14.00\" text-anchor=\"middle\" x=\"300\" y=\"-1253.3\">output:</text>\n<polyline fill=\"none\" points=\"329,-1245.5 329,-1291.5 \" stroke=\"#000000\"/>\n<text fill=\"#000000\" font-family=\"Times,serif\" font-size=\"14.00\" text-anchor=\"middle\" x=\"391.5\" y=\"-1276.3\">(None, 16, 16, 64)</text>\n<polyline fill=\"none\" points=\"329,-1268.5 454,-1268.5 \" stroke=\"#000000\"/>\n<text fill=\"#000000\" font-family=\"Times,serif\" font-size=\"14.00\" text-anchor=\"middle\" x=\"391.5\" y=\"-1253.3\">(None, 16, 16, 64)</text>\n</g>\n<!-- 139807494027584&#45;&gt;139807494417656 -->\n<g class=\"edge\" id=\"edge11\">\n<title>139807494027584-&gt;139807494417656</title>\n<path d=\"M227,-1328.3799C227,-1320.1745 227,-1310.7679 227,-1301.8786\" fill=\"none\" stroke=\"#000000\"/>\n<polygon fill=\"#000000\" points=\"230.5001,-1301.784 227,-1291.784 223.5001,-1301.784 230.5001,-1301.784\" stroke=\"#000000\"/>\n</g>\n<!-- 139807384609736 -->\n<g class=\"node\" id=\"node12\">\n<title>139807384609736</title>\n<polygon fill=\"none\" points=\"69,-1162.5 69,-1208.5 385,-1208.5 385,-1162.5 69,-1162.5\" stroke=\"#000000\"/>\n<text fill=\"#000000\" font-family=\"Times,serif\" font-size=\"14.00\" text-anchor=\"middle\" x=\"135.5\" y=\"-1181.8\">conv2d_4: Conv2D</text>\n<polyline fill=\"none\" points=\"202,-1162.5 202,-1208.5 \" stroke=\"#000000\"/>\n<text fill=\"#000000\" font-family=\"Times,serif\" font-size=\"14.00\" text-anchor=\"middle\" x=\"231\" y=\"-1193.3\">input:</text>\n<polyline fill=\"none\" points=\"202,-1185.5 260,-1185.5 \" stroke=\"#000000\"/>\n<text fill=\"#000000\" font-family=\"Times,serif\" font-size=\"14.00\" text-anchor=\"middle\" x=\"231\" y=\"-1170.3\">output:</text>\n<polyline fill=\"none\" points=\"260,-1162.5 260,-1208.5 \" stroke=\"#000000\"/>\n<text fill=\"#000000\" font-family=\"Times,serif\" font-size=\"14.00\" text-anchor=\"middle\" x=\"322.5\" y=\"-1193.3\">(None, 16, 16, 64)</text>\n<polyline fill=\"none\" points=\"260,-1185.5 385,-1185.5 \" stroke=\"#000000\"/>\n<text fill=\"#000000\" font-family=\"Times,serif\" font-size=\"14.00\" text-anchor=\"middle\" x=\"322.5\" y=\"-1170.3\">(None, 16, 16, 64)</text>\n</g>\n<!-- 139807494417656&#45;&gt;139807384609736 -->\n<g class=\"edge\" id=\"edge12\">\n<title>139807494417656-&gt;139807384609736</title>\n<path d=\"M227,-1245.3799C227,-1237.1745 227,-1227.7679 227,-1218.8786\" fill=\"none\" stroke=\"#000000\"/>\n<polygon fill=\"#000000\" points=\"230.5001,-1218.784 227,-1208.784 223.5001,-1218.784 230.5001,-1218.784\" stroke=\"#000000\"/>\n</g>\n<!-- 139807384177184 -->\n<g class=\"node\" id=\"node13\">\n<title>139807384177184</title>\n<polygon fill=\"none\" points=\"58.5,-1079.5 58.5,-1125.5 395.5,-1125.5 395.5,-1079.5 58.5,-1079.5\" stroke=\"#000000\"/>\n<text fill=\"#000000\" font-family=\"Times,serif\" font-size=\"14.00\" text-anchor=\"middle\" x=\"135.5\" y=\"-1098.8\">activation_4: Activation</text>\n<polyline fill=\"none\" points=\"212.5,-1079.5 212.5,-1125.5 \" stroke=\"#000000\"/>\n<text fill=\"#000000\" font-family=\"Times,serif\" font-size=\"14.00\" text-anchor=\"middle\" x=\"241.5\" y=\"-1110.3\">input:</text>\n<polyline fill=\"none\" points=\"212.5,-1102.5 270.5,-1102.5 \" stroke=\"#000000\"/>\n<text fill=\"#000000\" font-family=\"Times,serif\" font-size=\"14.00\" text-anchor=\"middle\" x=\"241.5\" y=\"-1087.3\">output:</text>\n<polyline fill=\"none\" points=\"270.5,-1079.5 270.5,-1125.5 \" stroke=\"#000000\"/>\n<text fill=\"#000000\" font-family=\"Times,serif\" font-size=\"14.00\" text-anchor=\"middle\" x=\"333\" y=\"-1110.3\">(None, 16, 16, 64)</text>\n<polyline fill=\"none\" points=\"270.5,-1102.5 395.5,-1102.5 \" stroke=\"#000000\"/>\n<text fill=\"#000000\" font-family=\"Times,serif\" font-size=\"14.00\" text-anchor=\"middle\" x=\"333\" y=\"-1087.3\">(None, 16, 16, 64)</text>\n</g>\n<!-- 139807384609736&#45;&gt;139807384177184 -->\n<g class=\"edge\" id=\"edge13\">\n<title>139807384609736-&gt;139807384177184</title>\n<path d=\"M227,-1162.3799C227,-1154.1745 227,-1144.7679 227,-1135.8786\" fill=\"none\" stroke=\"#000000\"/>\n<polygon fill=\"#000000\" points=\"230.5001,-1135.784 227,-1125.784 223.5001,-1135.784 230.5001,-1135.784\" stroke=\"#000000\"/>\n</g>\n<!-- 139807384178192 -->\n<g class=\"node\" id=\"node14\">\n<title>139807384178192</title>\n<polygon fill=\"none\" points=\"0,-996.5 0,-1042.5 454,-1042.5 454,-996.5 0,-996.5\" stroke=\"#000000\"/>\n<text fill=\"#000000\" font-family=\"Times,serif\" font-size=\"14.00\" text-anchor=\"middle\" x=\"135.5\" y=\"-1015.8\">batch_normalization_4: BatchNormalization</text>\n<polyline fill=\"none\" points=\"271,-996.5 271,-1042.5 \" stroke=\"#000000\"/>\n<text fill=\"#000000\" font-family=\"Times,serif\" font-size=\"14.00\" text-anchor=\"middle\" x=\"300\" y=\"-1027.3\">input:</text>\n<polyline fill=\"none\" points=\"271,-1019.5 329,-1019.5 \" stroke=\"#000000\"/>\n<text fill=\"#000000\" font-family=\"Times,serif\" font-size=\"14.00\" text-anchor=\"middle\" x=\"300\" y=\"-1004.3\">output:</text>\n<polyline fill=\"none\" points=\"329,-996.5 329,-1042.5 \" stroke=\"#000000\"/>\n<text fill=\"#000000\" font-family=\"Times,serif\" font-size=\"14.00\" text-anchor=\"middle\" x=\"391.5\" y=\"-1027.3\">(None, 16, 16, 64)</text>\n<polyline fill=\"none\" points=\"329,-1019.5 454,-1019.5 \" stroke=\"#000000\"/>\n<text fill=\"#000000\" font-family=\"Times,serif\" font-size=\"14.00\" text-anchor=\"middle\" x=\"391.5\" y=\"-1004.3\">(None, 16, 16, 64)</text>\n</g>\n<!-- 139807384177184&#45;&gt;139807384178192 -->\n<g class=\"edge\" id=\"edge14\">\n<title>139807384177184-&gt;139807384178192</title>\n<path d=\"M227,-1079.3799C227,-1071.1745 227,-1061.7679 227,-1052.8786\" fill=\"none\" stroke=\"#000000\"/>\n<polygon fill=\"#000000\" points=\"230.5001,-1052.784 227,-1042.784 223.5001,-1052.784 230.5001,-1052.784\" stroke=\"#000000\"/>\n</g>\n<!-- 139807383612832 -->\n<g class=\"node\" id=\"node15\">\n<title>139807383612832</title>\n<polygon fill=\"none\" points=\"25,-913.5 25,-959.5 429,-959.5 429,-913.5 25,-913.5\" stroke=\"#000000\"/>\n<text fill=\"#000000\" font-family=\"Times,serif\" font-size=\"14.00\" text-anchor=\"middle\" x=\"135.5\" y=\"-932.8\">max_pooling2d_2: MaxPooling2D</text>\n<polyline fill=\"none\" points=\"246,-913.5 246,-959.5 \" stroke=\"#000000\"/>\n<text fill=\"#000000\" font-family=\"Times,serif\" font-size=\"14.00\" text-anchor=\"middle\" x=\"275\" y=\"-944.3\">input:</text>\n<polyline fill=\"none\" points=\"246,-936.5 304,-936.5 \" stroke=\"#000000\"/>\n<text fill=\"#000000\" font-family=\"Times,serif\" font-size=\"14.00\" text-anchor=\"middle\" x=\"275\" y=\"-921.3\">output:</text>\n<polyline fill=\"none\" points=\"304,-913.5 304,-959.5 \" stroke=\"#000000\"/>\n<text fill=\"#000000\" font-family=\"Times,serif\" font-size=\"14.00\" text-anchor=\"middle\" x=\"366.5\" y=\"-944.3\">(None, 16, 16, 64)</text>\n<polyline fill=\"none\" points=\"304,-936.5 429,-936.5 \" stroke=\"#000000\"/>\n<text fill=\"#000000\" font-family=\"Times,serif\" font-size=\"14.00\" text-anchor=\"middle\" x=\"366.5\" y=\"-921.3\">(None, 8, 8, 64)</text>\n</g>\n<!-- 139807384178192&#45;&gt;139807383612832 -->\n<g class=\"edge\" id=\"edge15\">\n<title>139807384178192-&gt;139807383612832</title>\n<path d=\"M227,-996.3799C227,-988.1745 227,-978.7679 227,-969.8786\" fill=\"none\" stroke=\"#000000\"/>\n<polygon fill=\"#000000\" points=\"230.5001,-969.784 227,-959.784 223.5001,-969.784 230.5001,-969.784\" stroke=\"#000000\"/>\n</g>\n<!-- 139807383613000 -->\n<g class=\"node\" id=\"node16\">\n<title>139807383613000</title>\n<polygon fill=\"none\" points=\"76,-830.5 76,-876.5 378,-876.5 378,-830.5 76,-830.5\" stroke=\"#000000\"/>\n<text fill=\"#000000\" font-family=\"Times,serif\" font-size=\"14.00\" text-anchor=\"middle\" x=\"143\" y=\"-849.8\">dropout_2: Dropout</text>\n<polyline fill=\"none\" points=\"210,-830.5 210,-876.5 \" stroke=\"#000000\"/>\n<text fill=\"#000000\" font-family=\"Times,serif\" font-size=\"14.00\" text-anchor=\"middle\" x=\"239\" y=\"-861.3\">input:</text>\n<polyline fill=\"none\" points=\"210,-853.5 268,-853.5 \" stroke=\"#000000\"/>\n<text fill=\"#000000\" font-family=\"Times,serif\" font-size=\"14.00\" text-anchor=\"middle\" x=\"239\" y=\"-838.3\">output:</text>\n<polyline fill=\"none\" points=\"268,-830.5 268,-876.5 \" stroke=\"#000000\"/>\n<text fill=\"#000000\" font-family=\"Times,serif\" font-size=\"14.00\" text-anchor=\"middle\" x=\"323\" y=\"-861.3\">(None, 8, 8, 64)</text>\n<polyline fill=\"none\" points=\"268,-853.5 378,-853.5 \" stroke=\"#000000\"/>\n<text fill=\"#000000\" font-family=\"Times,serif\" font-size=\"14.00\" text-anchor=\"middle\" x=\"323\" y=\"-838.3\">(None, 8, 8, 64)</text>\n</g>\n<!-- 139807383612832&#45;&gt;139807383613000 -->\n<g class=\"edge\" id=\"edge16\">\n<title>139807383612832-&gt;139807383613000</title>\n<path d=\"M227,-913.3799C227,-905.1745 227,-895.7679 227,-886.8786\" fill=\"none\" stroke=\"#000000\"/>\n<polygon fill=\"#000000\" points=\"230.5001,-886.784 227,-876.784 223.5001,-886.784 230.5001,-886.784\" stroke=\"#000000\"/>\n</g>\n<!-- 139807382900296 -->\n<g class=\"node\" id=\"node17\">\n<title>139807382900296</title>\n<polygon fill=\"none\" points=\"73,-747.5 73,-793.5 381,-793.5 381,-747.5 73,-747.5\" stroke=\"#000000\"/>\n<text fill=\"#000000\" font-family=\"Times,serif\" font-size=\"14.00\" text-anchor=\"middle\" x=\"139.5\" y=\"-766.8\">conv2d_5: Conv2D</text>\n<polyline fill=\"none\" points=\"206,-747.5 206,-793.5 \" stroke=\"#000000\"/>\n<text fill=\"#000000\" font-family=\"Times,serif\" font-size=\"14.00\" text-anchor=\"middle\" x=\"235\" y=\"-778.3\">input:</text>\n<polyline fill=\"none\" points=\"206,-770.5 264,-770.5 \" stroke=\"#000000\"/>\n<text fill=\"#000000\" font-family=\"Times,serif\" font-size=\"14.00\" text-anchor=\"middle\" x=\"235\" y=\"-755.3\">output:</text>\n<polyline fill=\"none\" points=\"264,-747.5 264,-793.5 \" stroke=\"#000000\"/>\n<text fill=\"#000000\" font-family=\"Times,serif\" font-size=\"14.00\" text-anchor=\"middle\" x=\"322.5\" y=\"-778.3\">(None, 8, 8, 64)</text>\n<polyline fill=\"none\" points=\"264,-770.5 381,-770.5 \" stroke=\"#000000\"/>\n<text fill=\"#000000\" font-family=\"Times,serif\" font-size=\"14.00\" text-anchor=\"middle\" x=\"322.5\" y=\"-755.3\">(None, 8, 8, 128)</text>\n</g>\n<!-- 139807383613000&#45;&gt;139807382900296 -->\n<g class=\"edge\" id=\"edge17\">\n<title>139807383613000-&gt;139807382900296</title>\n<path d=\"M227,-830.3799C227,-822.1745 227,-812.7679 227,-803.8786\" fill=\"none\" stroke=\"#000000\"/>\n<polygon fill=\"#000000\" points=\"230.5001,-803.784 227,-793.784 223.5001,-803.784 230.5001,-803.784\" stroke=\"#000000\"/>\n</g>\n<!-- 139807799989416 -->\n<g class=\"node\" id=\"node18\">\n<title>139807799989416</title>\n<polygon fill=\"none\" points=\"62.5,-664.5 62.5,-710.5 391.5,-710.5 391.5,-664.5 62.5,-664.5\" stroke=\"#000000\"/>\n<text fill=\"#000000\" font-family=\"Times,serif\" font-size=\"14.00\" text-anchor=\"middle\" x=\"139.5\" y=\"-683.8\">activation_5: Activation</text>\n<polyline fill=\"none\" points=\"216.5,-664.5 216.5,-710.5 \" stroke=\"#000000\"/>\n<text fill=\"#000000\" font-family=\"Times,serif\" font-size=\"14.00\" text-anchor=\"middle\" x=\"245.5\" y=\"-695.3\">input:</text>\n<polyline fill=\"none\" points=\"216.5,-687.5 274.5,-687.5 \" stroke=\"#000000\"/>\n<text fill=\"#000000\" font-family=\"Times,serif\" font-size=\"14.00\" text-anchor=\"middle\" x=\"245.5\" y=\"-672.3\">output:</text>\n<polyline fill=\"none\" points=\"274.5,-664.5 274.5,-710.5 \" stroke=\"#000000\"/>\n<text fill=\"#000000\" font-family=\"Times,serif\" font-size=\"14.00\" text-anchor=\"middle\" x=\"333\" y=\"-695.3\">(None, 8, 8, 128)</text>\n<polyline fill=\"none\" points=\"274.5,-687.5 391.5,-687.5 \" stroke=\"#000000\"/>\n<text fill=\"#000000\" font-family=\"Times,serif\" font-size=\"14.00\" text-anchor=\"middle\" x=\"333\" y=\"-672.3\">(None, 8, 8, 128)</text>\n</g>\n<!-- 139807382900296&#45;&gt;139807799989416 -->\n<g class=\"edge\" id=\"edge18\">\n<title>139807382900296-&gt;139807799989416</title>\n<path d=\"M227,-747.3799C227,-739.1745 227,-729.7679 227,-720.8786\" fill=\"none\" stroke=\"#000000\"/>\n<polygon fill=\"#000000\" points=\"230.5001,-720.784 227,-710.784 223.5001,-720.784 230.5001,-720.784\" stroke=\"#000000\"/>\n</g>\n<!-- 139807799990200 -->\n<g class=\"node\" id=\"node19\">\n<title>139807799990200</title>\n<polygon fill=\"none\" points=\"4,-581.5 4,-627.5 450,-627.5 450,-581.5 4,-581.5\" stroke=\"#000000\"/>\n<text fill=\"#000000\" font-family=\"Times,serif\" font-size=\"14.00\" text-anchor=\"middle\" x=\"139.5\" y=\"-600.8\">batch_normalization_5: BatchNormalization</text>\n<polyline fill=\"none\" points=\"275,-581.5 275,-627.5 \" stroke=\"#000000\"/>\n<text fill=\"#000000\" font-family=\"Times,serif\" font-size=\"14.00\" text-anchor=\"middle\" x=\"304\" y=\"-612.3\">input:</text>\n<polyline fill=\"none\" points=\"275,-604.5 333,-604.5 \" stroke=\"#000000\"/>\n<text fill=\"#000000\" font-family=\"Times,serif\" font-size=\"14.00\" text-anchor=\"middle\" x=\"304\" y=\"-589.3\">output:</text>\n<polyline fill=\"none\" points=\"333,-581.5 333,-627.5 \" stroke=\"#000000\"/>\n<text fill=\"#000000\" font-family=\"Times,serif\" font-size=\"14.00\" text-anchor=\"middle\" x=\"391.5\" y=\"-612.3\">(None, 8, 8, 128)</text>\n<polyline fill=\"none\" points=\"333,-604.5 450,-604.5 \" stroke=\"#000000\"/>\n<text fill=\"#000000\" font-family=\"Times,serif\" font-size=\"14.00\" text-anchor=\"middle\" x=\"391.5\" y=\"-589.3\">(None, 8, 8, 128)</text>\n</g>\n<!-- 139807799989416&#45;&gt;139807799990200 -->\n<g class=\"edge\" id=\"edge19\">\n<title>139807799989416-&gt;139807799990200</title>\n<path d=\"M227,-664.3799C227,-656.1745 227,-646.7679 227,-637.8786\" fill=\"none\" stroke=\"#000000\"/>\n<polygon fill=\"#000000\" points=\"230.5001,-637.784 227,-627.784 223.5001,-637.784 230.5001,-637.784\" stroke=\"#000000\"/>\n</g>\n<!-- 139807801052800 -->\n<g class=\"node\" id=\"node20\">\n<title>139807801052800</title>\n<polygon fill=\"none\" points=\"73,-498.5 73,-544.5 381,-544.5 381,-498.5 73,-498.5\" stroke=\"#000000\"/>\n<text fill=\"#000000\" font-family=\"Times,serif\" font-size=\"14.00\" text-anchor=\"middle\" x=\"139.5\" y=\"-517.8\">conv2d_6: Conv2D</text>\n<polyline fill=\"none\" points=\"206,-498.5 206,-544.5 \" stroke=\"#000000\"/>\n<text fill=\"#000000\" font-family=\"Times,serif\" font-size=\"14.00\" text-anchor=\"middle\" x=\"235\" y=\"-529.3\">input:</text>\n<polyline fill=\"none\" points=\"206,-521.5 264,-521.5 \" stroke=\"#000000\"/>\n<text fill=\"#000000\" font-family=\"Times,serif\" font-size=\"14.00\" text-anchor=\"middle\" x=\"235\" y=\"-506.3\">output:</text>\n<polyline fill=\"none\" points=\"264,-498.5 264,-544.5 \" stroke=\"#000000\"/>\n<text fill=\"#000000\" font-family=\"Times,serif\" font-size=\"14.00\" text-anchor=\"middle\" x=\"322.5\" y=\"-529.3\">(None, 8, 8, 128)</text>\n<polyline fill=\"none\" points=\"264,-521.5 381,-521.5 \" stroke=\"#000000\"/>\n<text fill=\"#000000\" font-family=\"Times,serif\" font-size=\"14.00\" text-anchor=\"middle\" x=\"322.5\" y=\"-506.3\">(None, 8, 8, 128)</text>\n</g>\n<!-- 139807799990200&#45;&gt;139807801052800 -->\n<g class=\"edge\" id=\"edge20\">\n<title>139807799990200-&gt;139807801052800</title>\n<path d=\"M227,-581.3799C227,-573.1745 227,-563.7679 227,-554.8786\" fill=\"none\" stroke=\"#000000\"/>\n<polygon fill=\"#000000\" points=\"230.5001,-554.784 227,-544.784 223.5001,-554.784 230.5001,-554.784\" stroke=\"#000000\"/>\n</g>\n<!-- 139807799608488 -->\n<g class=\"node\" id=\"node21\">\n<title>139807799608488</title>\n<polygon fill=\"none\" points=\"62.5,-415.5 62.5,-461.5 391.5,-461.5 391.5,-415.5 62.5,-415.5\" stroke=\"#000000\"/>\n<text fill=\"#000000\" font-family=\"Times,serif\" font-size=\"14.00\" text-anchor=\"middle\" x=\"139.5\" y=\"-434.8\">activation_6: Activation</text>\n<polyline fill=\"none\" points=\"216.5,-415.5 216.5,-461.5 \" stroke=\"#000000\"/>\n<text fill=\"#000000\" font-family=\"Times,serif\" font-size=\"14.00\" text-anchor=\"middle\" x=\"245.5\" y=\"-446.3\">input:</text>\n<polyline fill=\"none\" points=\"216.5,-438.5 274.5,-438.5 \" stroke=\"#000000\"/>\n<text fill=\"#000000\" font-family=\"Times,serif\" font-size=\"14.00\" text-anchor=\"middle\" x=\"245.5\" y=\"-423.3\">output:</text>\n<polyline fill=\"none\" points=\"274.5,-415.5 274.5,-461.5 \" stroke=\"#000000\"/>\n<text fill=\"#000000\" font-family=\"Times,serif\" font-size=\"14.00\" text-anchor=\"middle\" x=\"333\" y=\"-446.3\">(None, 8, 8, 128)</text>\n<polyline fill=\"none\" points=\"274.5,-438.5 391.5,-438.5 \" stroke=\"#000000\"/>\n<text fill=\"#000000\" font-family=\"Times,serif\" font-size=\"14.00\" text-anchor=\"middle\" x=\"333\" y=\"-423.3\">(None, 8, 8, 128)</text>\n</g>\n<!-- 139807801052800&#45;&gt;139807799608488 -->\n<g class=\"edge\" id=\"edge21\">\n<title>139807801052800-&gt;139807799608488</title>\n<path d=\"M227,-498.3799C227,-490.1745 227,-480.7679 227,-471.8786\" fill=\"none\" stroke=\"#000000\"/>\n<polygon fill=\"#000000\" points=\"230.5001,-471.784 227,-461.784 223.5001,-471.784 230.5001,-471.784\" stroke=\"#000000\"/>\n</g>\n<!-- 139807799607984 -->\n<g class=\"node\" id=\"node22\">\n<title>139807799607984</title>\n<polygon fill=\"none\" points=\"4,-332.5 4,-378.5 450,-378.5 450,-332.5 4,-332.5\" stroke=\"#000000\"/>\n<text fill=\"#000000\" font-family=\"Times,serif\" font-size=\"14.00\" text-anchor=\"middle\" x=\"139.5\" y=\"-351.8\">batch_normalization_6: BatchNormalization</text>\n<polyline fill=\"none\" points=\"275,-332.5 275,-378.5 \" stroke=\"#000000\"/>\n<text fill=\"#000000\" font-family=\"Times,serif\" font-size=\"14.00\" text-anchor=\"middle\" x=\"304\" y=\"-363.3\">input:</text>\n<polyline fill=\"none\" points=\"275,-355.5 333,-355.5 \" stroke=\"#000000\"/>\n<text fill=\"#000000\" font-family=\"Times,serif\" font-size=\"14.00\" text-anchor=\"middle\" x=\"304\" y=\"-340.3\">output:</text>\n<polyline fill=\"none\" points=\"333,-332.5 333,-378.5 \" stroke=\"#000000\"/>\n<text fill=\"#000000\" font-family=\"Times,serif\" font-size=\"14.00\" text-anchor=\"middle\" x=\"391.5\" y=\"-363.3\">(None, 8, 8, 128)</text>\n<polyline fill=\"none\" points=\"333,-355.5 450,-355.5 \" stroke=\"#000000\"/>\n<text fill=\"#000000\" font-family=\"Times,serif\" font-size=\"14.00\" text-anchor=\"middle\" x=\"391.5\" y=\"-340.3\">(None, 8, 8, 128)</text>\n</g>\n<!-- 139807799608488&#45;&gt;139807799607984 -->\n<g class=\"edge\" id=\"edge22\">\n<title>139807799608488-&gt;139807799607984</title>\n<path d=\"M227,-415.3799C227,-407.1745 227,-397.7679 227,-388.8786\" fill=\"none\" stroke=\"#000000\"/>\n<polygon fill=\"#000000\" points=\"230.5001,-388.784 227,-378.784 223.5001,-388.784 230.5001,-388.784\" stroke=\"#000000\"/>\n</g>\n<!-- 139807799569264 -->\n<g class=\"node\" id=\"node23\">\n<title>139807799569264</title>\n<polygon fill=\"none\" points=\"29,-249.5 29,-295.5 425,-295.5 425,-249.5 29,-249.5\" stroke=\"#000000\"/>\n<text fill=\"#000000\" font-family=\"Times,serif\" font-size=\"14.00\" text-anchor=\"middle\" x=\"139.5\" y=\"-268.8\">max_pooling2d_3: MaxPooling2D</text>\n<polyline fill=\"none\" points=\"250,-249.5 250,-295.5 \" stroke=\"#000000\"/>\n<text fill=\"#000000\" font-family=\"Times,serif\" font-size=\"14.00\" text-anchor=\"middle\" x=\"279\" y=\"-280.3\">input:</text>\n<polyline fill=\"none\" points=\"250,-272.5 308,-272.5 \" stroke=\"#000000\"/>\n<text fill=\"#000000\" font-family=\"Times,serif\" font-size=\"14.00\" text-anchor=\"middle\" x=\"279\" y=\"-257.3\">output:</text>\n<polyline fill=\"none\" points=\"308,-249.5 308,-295.5 \" stroke=\"#000000\"/>\n<text fill=\"#000000\" font-family=\"Times,serif\" font-size=\"14.00\" text-anchor=\"middle\" x=\"366.5\" y=\"-280.3\">(None, 8, 8, 128)</text>\n<polyline fill=\"none\" points=\"308,-272.5 425,-272.5 \" stroke=\"#000000\"/>\n<text fill=\"#000000\" font-family=\"Times,serif\" font-size=\"14.00\" text-anchor=\"middle\" x=\"366.5\" y=\"-257.3\">(None, 4, 4, 128)</text>\n</g>\n<!-- 139807799607984&#45;&gt;139807799569264 -->\n<g class=\"edge\" id=\"edge23\">\n<title>139807799607984-&gt;139807799569264</title>\n<path d=\"M227,-332.3799C227,-324.1745 227,-314.7679 227,-305.8786\" fill=\"none\" stroke=\"#000000\"/>\n<polygon fill=\"#000000\" points=\"230.5001,-305.784 227,-295.784 223.5001,-305.784 230.5001,-305.784\" stroke=\"#000000\"/>\n</g>\n<!-- 139807799369120 -->\n<g class=\"node\" id=\"node24\">\n<title>139807799369120</title>\n<polygon fill=\"none\" points=\"72.5,-166.5 72.5,-212.5 381.5,-212.5 381.5,-166.5 72.5,-166.5\" stroke=\"#000000\"/>\n<text fill=\"#000000\" font-family=\"Times,serif\" font-size=\"14.00\" text-anchor=\"middle\" x=\"139.5\" y=\"-185.8\">dropout_3: Dropout</text>\n<polyline fill=\"none\" points=\"206.5,-166.5 206.5,-212.5 \" stroke=\"#000000\"/>\n<text fill=\"#000000\" font-family=\"Times,serif\" font-size=\"14.00\" text-anchor=\"middle\" x=\"235.5\" y=\"-197.3\">input:</text>\n<polyline fill=\"none\" points=\"206.5,-189.5 264.5,-189.5 \" stroke=\"#000000\"/>\n<text fill=\"#000000\" font-family=\"Times,serif\" font-size=\"14.00\" text-anchor=\"middle\" x=\"235.5\" y=\"-174.3\">output:</text>\n<polyline fill=\"none\" points=\"264.5,-166.5 264.5,-212.5 \" stroke=\"#000000\"/>\n<text fill=\"#000000\" font-family=\"Times,serif\" font-size=\"14.00\" text-anchor=\"middle\" x=\"323\" y=\"-197.3\">(None, 4, 4, 128)</text>\n<polyline fill=\"none\" points=\"264.5,-189.5 381.5,-189.5 \" stroke=\"#000000\"/>\n<text fill=\"#000000\" font-family=\"Times,serif\" font-size=\"14.00\" text-anchor=\"middle\" x=\"323\" y=\"-174.3\">(None, 4, 4, 128)</text>\n</g>\n<!-- 139807799569264&#45;&gt;139807799369120 -->\n<g class=\"edge\" id=\"edge24\">\n<title>139807799569264-&gt;139807799369120</title>\n<path d=\"M227,-249.3799C227,-241.1745 227,-231.7679 227,-222.8786\" fill=\"none\" stroke=\"#000000\"/>\n<polygon fill=\"#000000\" points=\"230.5001,-222.784 227,-212.784 223.5001,-222.784 230.5001,-222.784\" stroke=\"#000000\"/>\n</g>\n<!-- 139807799844032 -->\n<g class=\"node\" id=\"node25\">\n<title>139807799844032</title>\n<polygon fill=\"none\" points=\"83,-83.5 83,-129.5 371,-129.5 371,-83.5 83,-83.5\" stroke=\"#000000\"/>\n<text fill=\"#000000\" font-family=\"Times,serif\" font-size=\"14.00\" text-anchor=\"middle\" x=\"139.5\" y=\"-102.8\">flatten_1: Flatten</text>\n<polyline fill=\"none\" points=\"196,-83.5 196,-129.5 \" stroke=\"#000000\"/>\n<text fill=\"#000000\" font-family=\"Times,serif\" font-size=\"14.00\" text-anchor=\"middle\" x=\"225\" y=\"-114.3\">input:</text>\n<polyline fill=\"none\" points=\"196,-106.5 254,-106.5 \" stroke=\"#000000\"/>\n<text fill=\"#000000\" font-family=\"Times,serif\" font-size=\"14.00\" text-anchor=\"middle\" x=\"225\" y=\"-91.3\">output:</text>\n<polyline fill=\"none\" points=\"254,-83.5 254,-129.5 \" stroke=\"#000000\"/>\n<text fill=\"#000000\" font-family=\"Times,serif\" font-size=\"14.00\" text-anchor=\"middle\" x=\"312.5\" y=\"-114.3\">(None, 4, 4, 128)</text>\n<polyline fill=\"none\" points=\"254,-106.5 371,-106.5 \" stroke=\"#000000\"/>\n<text fill=\"#000000\" font-family=\"Times,serif\" font-size=\"14.00\" text-anchor=\"middle\" x=\"312.5\" y=\"-91.3\">(None, 2048)</text>\n</g>\n<!-- 139807799369120&#45;&gt;139807799844032 -->\n<g class=\"edge\" id=\"edge25\">\n<title>139807799369120-&gt;139807799844032</title>\n<path d=\"M227,-166.3799C227,-158.1745 227,-148.7679 227,-139.8786\" fill=\"none\" stroke=\"#000000\"/>\n<polygon fill=\"#000000\" points=\"230.5001,-139.784 227,-129.784 223.5001,-139.784 230.5001,-139.784\" stroke=\"#000000\"/>\n</g>\n<!-- 139807942661232 -->\n<g class=\"node\" id=\"node26\">\n<title>139807942661232</title>\n<polygon fill=\"none\" points=\"97,-.5 97,-46.5 357,-46.5 357,-.5 97,-.5\" stroke=\"#000000\"/>\n<text fill=\"#000000\" font-family=\"Times,serif\" font-size=\"14.00\" text-anchor=\"middle\" x=\"150.5\" y=\"-19.8\">dense_1: Dense</text>\n<polyline fill=\"none\" points=\"204,-.5 204,-46.5 \" stroke=\"#000000\"/>\n<text fill=\"#000000\" font-family=\"Times,serif\" font-size=\"14.00\" text-anchor=\"middle\" x=\"233\" y=\"-31.3\">input:</text>\n<polyline fill=\"none\" points=\"204,-23.5 262,-23.5 \" stroke=\"#000000\"/>\n<text fill=\"#000000\" font-family=\"Times,serif\" font-size=\"14.00\" text-anchor=\"middle\" x=\"233\" y=\"-8.3\">output:</text>\n<polyline fill=\"none\" points=\"262,-.5 262,-46.5 \" stroke=\"#000000\"/>\n<text fill=\"#000000\" font-family=\"Times,serif\" font-size=\"14.00\" text-anchor=\"middle\" x=\"309.5\" y=\"-31.3\">(None, 2048)</text>\n<polyline fill=\"none\" points=\"262,-23.5 357,-23.5 \" stroke=\"#000000\"/>\n<text fill=\"#000000\" font-family=\"Times,serif\" font-size=\"14.00\" text-anchor=\"middle\" x=\"309.5\" y=\"-8.3\">(None, 10)</text>\n</g>\n<!-- 139807799844032&#45;&gt;139807942661232 -->\n<g class=\"edge\" id=\"edge26\">\n<title>139807799844032-&gt;139807942661232</title>\n<path d=\"M227,-83.3799C227,-75.1745 227,-65.7679 227,-56.8786\" fill=\"none\" stroke=\"#000000\"/>\n<polygon fill=\"#000000\" points=\"230.5001,-56.784 227,-46.784 223.5001,-56.784 230.5001,-56.784\" stroke=\"#000000\"/>\n</g>\n<!-- 139807756959024 -->\n<g class=\"node\" id=\"node27\">\n<title>139807756959024</title>\n<polygon fill=\"none\" points=\"162.5,-2158.5 162.5,-2194.5 291.5,-2194.5 291.5,-2158.5 162.5,-2158.5\" stroke=\"#000000\"/>\n<text fill=\"#000000\" font-family=\"Times,serif\" font-size=\"14.00\" text-anchor=\"middle\" x=\"227\" y=\"-2172.8\">139807756959024</text>\n</g>\n<!-- 139807756959024&#45;&gt;139807756956952 -->\n<g class=\"edge\" id=\"edge1\">\n<title>139807756959024-&gt;139807756956952</title>\n<path d=\"M227,-2158.4092C227,-2150.4308 227,-2140.795 227,-2131.606\" fill=\"none\" stroke=\"#000000\"/>\n<polygon fill=\"#000000\" points=\"230.5001,-2131.5333 227,-2121.5333 223.5001,-2131.5334 230.5001,-2131.5333\" stroke=\"#000000\"/>\n</g>\n</g>\n</svg>"
          },
          "metadata": {
            "tags": []
          },
          "execution_count": 19
        }
      ]
    },
    {
      "cell_type": "markdown",
      "metadata": {
        "id": "5IhZseCdfJaP",
        "colab_type": "text"
      },
      "source": [
        "## Optimizer"
      ]
    },
    {
      "cell_type": "code",
      "metadata": {
        "id": "fg_MY6g0fK0P",
        "colab_type": "code",
        "colab": {}
      },
      "source": [
        "# optimizer = keras.optimizers.SGD(lr=learning_rate)"
      ],
      "execution_count": 0,
      "outputs": []
    },
    {
      "cell_type": "markdown",
      "metadata": {
        "id": "uJxeGY6wy9SY",
        "colab_type": "text"
      },
      "source": [
        "## Compiling the model"
      ]
    },
    {
      "cell_type": "markdown",
      "metadata": {
        "id": "J6VaPLpbjgPY",
        "colab_type": "text"
      },
      "source": [
        ""
      ]
    },
    {
      "cell_type": "code",
      "metadata": {
        "id": "xf9mmKWK4QMh",
        "colab_type": "code",
        "colab": {}
      },
      "source": [
        "model.compile(loss=keras.losses.categorical_crossentropy, \n",
        "              optimizer='Adam', \n",
        "              metrics=['accuracy'])"
      ],
      "execution_count": 0,
      "outputs": []
    },
    {
      "cell_type": "markdown",
      "metadata": {
        "id": "pkTzOXEettwf",
        "colab_type": "text"
      },
      "source": [
        ""
      ]
    },
    {
      "cell_type": "code",
      "metadata": {
        "id": "ytRmcq3kJmcm",
        "colab_type": "code",
        "colab": {}
      },
      "source": [
        ""
      ],
      "execution_count": 0,
      "outputs": []
    },
    {
      "cell_type": "markdown",
      "metadata": {
        "id": "W1o7VFdvzCcY",
        "colab_type": "text"
      },
      "source": [
        "## Training the model"
      ]
    },
    {
      "cell_type": "code",
      "metadata": {
        "id": "3ATI0lIYujXt",
        "colab_type": "code",
        "colab": {}
      },
      "source": [
        ""
      ],
      "execution_count": 0,
      "outputs": []
    },
    {
      "cell_type": "code",
      "metadata": {
        "id": "hRMGGn5g4RdW",
        "colab_type": "code",
        "outputId": "98b6968e-62f4-4ced-9742-c297a9c8da05",
        "colab": {
          "base_uri": "https://localhost:8080/",
          "height": 177
        }
      },
      "source": [
        "history = model.fit(x_train, y_train,\n",
        "          batch_size=batch_size,\n",
        "          epochs= 30,#epochs,\n",
        "          verbose=1,\n",
        "          validation_data=(x_test, y_test),\n",
        "          callbacks=my_callbacks)"
      ],
      "execution_count": 0,
      "outputs": [
        {
          "output_type": "stream",
          "text": [
            "WARNING:tensorflow:From /usr/local/lib/python3.6/dist-packages/tensorflow/python/ops/math_ops.py:3066: to_int32 (from tensorflow.python.ops.math_ops) is deprecated and will be removed in a future version.\n",
            "Instructions for updating:\n",
            "Use tf.cast instead.\n",
            "Train on 50000 samples, validate on 10000 samples\n",
            "Epoch 1/30\n",
            "50000/50000 [==============================] - 15s 298us/step - loss: 1.6935 - acc: 0.4767 - val_loss: 1.2084 - val_acc: 0.6191\n",
            "Epoch 2/30\n",
            "18240/50000 [=========>....................] - ETA: 7s - loss: 1.1734 - acc: 0.6164"
          ],
          "name": "stdout"
        }
      ]
    },
    {
      "cell_type": "markdown",
      "metadata": {
        "id": "bUFlA5EvzFDB",
        "colab_type": "text"
      },
      "source": [
        "## Evaulating the model"
      ]
    },
    {
      "cell_type": "code",
      "metadata": {
        "id": "R6U6JC6Z4Scj",
        "colab_type": "code",
        "colab": {}
      },
      "source": [
        "score = model.evaluate(x_test, y_test, verbose=0)\n",
        "print('Test loss:', score[0])\n",
        "print('Test accuracy:', score[1])"
      ],
      "execution_count": 0,
      "outputs": []
    },
    {
      "cell_type": "markdown",
      "metadata": {
        "id": "hrZZwM4PjhLo",
        "colab_type": "text"
      },
      "source": [
        "## Prediction the model"
      ]
    },
    {
      "cell_type": "code",
      "metadata": {
        "id": "EeQpuwtEofa1",
        "colab_type": "code",
        "colab": {}
      },
      "source": [
        "y_pred = model.predict(x_test)"
      ],
      "execution_count": 0,
      "outputs": []
    },
    {
      "cell_type": "code",
      "metadata": {
        "id": "NZWcHZaJgf1H",
        "colab_type": "code",
        "colab": {}
      },
      "source": [
        "plot_images(x=x_test[:25], y_true=y_test[:25], y_pred=y_pred[:25])"
      ],
      "execution_count": 0,
      "outputs": []
    },
    {
      "cell_type": "code",
      "metadata": {
        "id": "cTxF9jDUfOTt",
        "colab_type": "code",
        "colab": {}
      },
      "source": [
        "y_result = confusion_matrix(y_test.argmax(axis=1), y_pred.argmax(axis=1))\n",
        "sns.heatmap(pd.DataFrame(y_result, range(10), range(10)), annot=True, fmt='g')"
      ],
      "execution_count": 0,
      "outputs": []
    },
    {
      "cell_type": "code",
      "metadata": {
        "id": "CFeMAcjS1LJ5",
        "colab_type": "code",
        "colab": {}
      },
      "source": [
        "# Plot training & validation accuracy values\n",
        "plt.plot(history.history['acc'])\n",
        "plt.plot(history.history['val_acc'])\n",
        "plt.title('Model accuracy')\n",
        "plt.ylabel('Accuracy')\n",
        "plt.xlabel('Epoch')\n",
        "plt.legend(['Train', 'Test'], loc='upper left')\n",
        "plt.show()\n",
        "\n",
        "# Plot training & validation loss values\n",
        "plt.plot(history.history['loss'])\n",
        "plt.plot(history.history['val_loss'])\n",
        "plt.title('Model loss')\n",
        "plt.ylabel('Loss')\n",
        "plt.xlabel('Epoch')\n",
        "plt.legend(['Train', 'Test'], loc='upper left')\n",
        "plt.show()\n",
        "\n",
        "\n",
        "import matplotlib.pyplot as plt\n"
      ],
      "execution_count": 0,
      "outputs": []
    },
    {
      "cell_type": "code",
      "metadata": {
        "id": "bblHD5Sv81oy",
        "colab_type": "code",
        "colab": {}
      },
      "source": [
        "# tbc.save_image(title=\"test_title\", image=image)\n"
      ],
      "execution_count": 0,
      "outputs": []
    },
    {
      "cell_type": "code",
      "metadata": {
        "id": "G5co16a382Ez",
        "colab_type": "code",
        "colab": {}
      },
      "source": [
        ""
      ],
      "execution_count": 0,
      "outputs": []
    }
  ]
}