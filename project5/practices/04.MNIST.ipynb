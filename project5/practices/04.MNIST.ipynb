{
 "cells": [
  {
   "cell_type": "markdown",
   "metadata": {
    "colab_type": "text",
    "id": "CttH-ynKdaNq"
   },
   "source": [
    "# Import modules"
   ]
  },
  {
   "cell_type": "code",
   "execution_count": 1,
   "metadata": {
    "colab": {},
    "colab_type": "code",
    "id": "TPcE-cf03x1G"
   },
   "outputs": [
    {
     "name": "stderr",
     "output_type": "stream",
     "text": [
      "Using TensorFlow backend.\n"
     ]
    }
   ],
   "source": [
    "import keras\n",
    "from keras.datasets import mnist\n",
    "from keras.models import Sequential\n",
    "from keras.layers import Dense, Dropout, Flatten, Activation\n",
    "from keras.layers import Conv2D, MaxPooling2D\n",
    "from keras import backend as K\n",
    "from keras.utils.vis_utils import model_to_dot\n",
    "from IPython.display import SVG\n",
    "%matplotlib inline\n",
    "import matplotlib.pyplot as plt\n",
    "from sklearn.metrics import confusion_matrix\n",
    "import pandas as pd\n",
    "import seaborn as sns"
   ]
  },
  {
   "cell_type": "markdown",
   "metadata": {
    "colab_type": "text",
    "id": "u9ykG_EHxT5y"
   },
   "source": [
    "# Tuning parameters"
   ]
  },
  {
   "cell_type": "code",
   "execution_count": 2,
   "metadata": {
    "colab": {},
    "colab_type": "code",
    "id": "1Q22VwhX38Uo"
   },
   "outputs": [],
   "source": [
    "epochs = 10\n",
    "learning_rate=0.01"
   ]
  },
  {
   "cell_type": "code",
   "execution_count": 3,
   "metadata": {
    "colab": {},
    "colab_type": "code",
    "id": "_iLVuvrleqbB"
   },
   "outputs": [],
   "source": [
    "batch_size = 128\n",
    "num_classes = 10"
   ]
  },
  {
   "cell_type": "markdown",
   "metadata": {
    "colab_type": "text",
    "id": "DTRy8O-Bloud"
   },
   "source": [
    "# Data"
   ]
  },
  {
   "cell_type": "markdown",
   "metadata": {
    "colab_type": "text",
    "id": "B0oTrbKHcZVV"
   },
   "source": [
    "## Plot image"
   ]
  },
  {
   "cell_type": "code",
   "execution_count": 4,
   "metadata": {
    "colab": {},
    "colab_type": "code",
    "id": "3SSeHKiggedo"
   },
   "outputs": [],
   "source": [
    "def plot_images(x, y_true, y_pred=None, size=(5, 5)):\n",
    "    assert len(x) == len(y_true) == size[0] * size[1]\n",
    "    \n",
    "    fig, axes = plt.subplots(size[0], size[1])\n",
    "    fig.subplots_adjust(hspace=0.5, wspace=0.1)\n",
    "\n",
    "    for i, ax in enumerate(axes.flat):\n",
    "        if x[i].shape[-1] == 1:\n",
    "          ax.imshow(x[i].reshape(x[i].shape[0], x[i].shape[1]))\n",
    "        else:\n",
    "          ax.imshow(x[i])\n",
    "\n",
    "        if y_pred is None:\n",
    "            xlabel = \"True: {0}\".format(y_true[i].argmax())\n",
    "        else:\n",
    "            xlabel = \"True: {0}, Pred: {1}\".format(y_true[i].argmax(), \n",
    "                                                   y_pred[i].argmax())\n",
    "\n",
    "        ax.set_xlabel(xlabel)\n",
    "        \n",
    "        ax.set_xticks([])\n",
    "        ax.set_yticks([])\n",
    "\n",
    "    plt.show()"
   ]
  },
  {
   "cell_type": "markdown",
   "metadata": {
    "colab_type": "text",
    "id": "OmEH-fu2exDv"
   },
   "source": [
    "## Load dataset"
   ]
  },
  {
   "cell_type": "code",
   "execution_count": 5,
   "metadata": {
    "colab": {},
    "colab_type": "code",
    "id": "vk-aKTUq37Mp"
   },
   "outputs": [
    {
     "name": "stdout",
     "output_type": "stream",
     "text": [
      "Downloading data from https://s3.amazonaws.com/img-datasets/mnist.npz\n",
      "11493376/11490434 [==============================] - 28s 2us/step\n"
     ]
    }
   ],
   "source": [
    "(x_train, y_train), (x_test, y_test) = mnist.load_data()"
   ]
  },
  {
   "cell_type": "markdown",
   "metadata": {
    "colab_type": "text",
    "id": "2R_RYuFvxkxG"
   },
   "source": [
    "## Reshaping the data"
   ]
  },
  {
   "cell_type": "code",
   "execution_count": 6,
   "metadata": {
    "colab": {},
    "colab_type": "code",
    "id": "Cb6Q1qm2xbis"
   },
   "outputs": [],
   "source": [
    "if len(x_train.shape) < 4:\n",
    "  x_train = x_train.reshape(x_train.shape[0], x_train.shape[1], x_train.shape[2], 1)\n",
    "  x_test = x_test.reshape(x_test.shape[0], x_train.shape[1], x_train.shape[2], 1)"
   ]
  },
  {
   "cell_type": "code",
   "execution_count": 7,
   "metadata": {
    "colab": {},
    "colab_type": "code",
    "id": "JHL9_0sE3_1Q"
   },
   "outputs": [
    {
     "name": "stdout",
     "output_type": "stream",
     "text": [
      "x_train shape: (60000, 28, 28, 1)\n",
      "60000 train samples\n",
      "10000 test samples\n"
     ]
    }
   ],
   "source": [
    "x_train = x_train.astype('float32')\n",
    "x_test = x_test.astype('float32')\n",
    "x_train /= 255\n",
    "x_test /= 255\n",
    "print('x_train shape:', x_train.shape)\n",
    "print(x_train.shape[0], 'train samples')\n",
    "print(x_test.shape[0], 'test samples')"
   ]
  },
  {
   "cell_type": "markdown",
   "metadata": {
    "colab_type": "text",
    "id": "hQMRbujdxoS1"
   },
   "source": [
    "## Applying One hot encoding for the data"
   ]
  },
  {
   "cell_type": "code",
   "execution_count": 8,
   "metadata": {
    "colab": {},
    "colab_type": "code",
    "id": "tczq1zJJ4Bd0"
   },
   "outputs": [],
   "source": [
    "y_train = keras.utils.to_categorical(y_train, num_classes)\n",
    "y_test = keras.utils.to_categorical(y_test, num_classes)"
   ]
  },
  {
   "cell_type": "markdown",
   "metadata": {
    "colab_type": "text",
    "id": "_kkozXvddyyB"
   },
   "source": [
    "## Show data"
   ]
  },
  {
   "cell_type": "code",
   "execution_count": 9,
   "metadata": {
    "colab": {},
    "colab_type": "code",
    "id": "tHO8KB8zd1vp"
   },
   "outputs": [
    {
     "data": {
      "image/png": "[encoded data removed]",
      "text/plain": [
       "<Figure size 432x288 with 25 Axes>"
      ]
     },
     "metadata": {},
     "output_type": "display_data"
    }
   ],
   "source": [
    "plot_images(x_train[:25], y_train[:25])"
   ]
  },
  {
   "cell_type": "markdown",
   "metadata": {
    "colab_type": "text",
    "id": "fytNaqPMy0uf"
   },
   "source": [
    "# Creating the DNN model"
   ]
  },
  {
   "cell_type": "code",
   "execution_count": 10,
   "metadata": {
    "colab": {},
    "colab_type": "code",
    "id": "uUShWbV24C4R"
   },
   "outputs": [],
   "source": [
    "model = Sequential()"
   ]
  },
  {
   "cell_type": "markdown",
   "metadata": {
    "colab_type": "text",
    "id": "eR3qIzvRy4jy"
   },
   "source": [
    "## Adding layers to the model"
   ]
  },
  {
   "cell_type": "code",
   "execution_count": 11,
   "metadata": {
    "colab": {},
    "colab_type": "code",
    "id": "p5P1W5284GnQ"
   },
   "outputs": [
    {
     "name": "stdout",
     "output_type": "stream",
     "text": [
      "WARNING:tensorflow:From /anaconda3/lib/python3.7/site-packages/tensorflow/python/framework/op_def_library.py:263: colocate_with (from tensorflow.python.framework.ops) is deprecated and will be removed in a future version.\n",
      "Instructions for updating:\n",
      "Colocations handled automatically by placer.\n",
      "WARNING:tensorflow:From /anaconda3/lib/python3.7/site-packages/keras/backend/tensorflow_backend.py:3445: calling dropout (from tensorflow.python.ops.nn_ops) with keep_prob is deprecated and will be removed in a future version.\n",
      "Instructions for updating:\n",
      "Please use `rate` instead of `keep_prob`. Rate should be set to `rate = 1 - keep_prob`.\n"
     ]
    }
   ],
   "source": [
    "model.add(Conv2D(32, kernel_size=(3, 3), activation='relu', \n",
    "                 input_shape=x_train.shape[1:]))\n",
    "model.add(Conv2D(64, (3, 3), activation='relu'))\n",
    "model.add(Conv2D(128, (3, 3), activation='relu'))\n",
    "model.add(MaxPooling2D(pool_size=(2, 2)))\n",
    "model.add(Dropout(0.25))\n",
    "model.add(Flatten())\n",
    "model.add(Dense(128, activation='relu'))\n",
    "model.add(Dropout(0.5))\n",
    "model.add(Dense(num_classes, activation='softmax'))"
   ]
  },
  {
   "cell_type": "markdown",
   "metadata": {
    "colab_type": "text",
    "id": "VtDokEwTz-Yh"
   },
   "source": [
    "## Visualization the model"
   ]
  },
  {
   "cell_type": "code",
   "execution_count": 12,
   "metadata": {
    "colab": {},
    "colab_type": "code",
    "id": "goDA5Dbiy1yQ"
   },
   "outputs": [
    {
     "data": {
      "image/svg+xml": [
       "<svg height=\"774pt\" viewBox=\"0.00 0.00 400.93 774.00\" width=\"401pt\" xmlns=\"http://www.w3.org/2000/svg\" xmlns:xlink=\"http://www.w3.org/1999/xlink\">\n",
       "<g class=\"graph\" id=\"graph0\" transform=\"scale(1 1) rotate(0) translate(4 770)\">\n",
       "<title>G</title>\n",
       "<polygon fill=\"#ffffff\" points=\"-4,4 -4,-770 396.9277,-770 396.9277,4 -4,4\" stroke=\"transparent\"/>\n",
       "<!-- 112730967960 -->\n",
       "<g class=\"node\" id=\"node1\">\n",
       "<title>112730967960</title>\n",
       "<polygon fill=\"none\" points=\"46.2793,-648.5 46.2793,-692.5 346.6484,-692.5 346.6484,-648.5 46.2793,-648.5\" stroke=\"#000000\"/>\n",
       "<text fill=\"#000000\" font-family=\"Times,serif\" font-size=\"14.00\" text-anchor=\"middle\" x=\"109.3052\" y=\"-666.3\">conv2d_1: Conv2D</text>\n",
       "<polyline fill=\"none\" points=\"172.3311,-648.5 172.3311,-692.5 \" stroke=\"#000000\"/>\n",
       "<text fill=\"#000000\" font-family=\"Times,serif\" font-size=\"14.00\" text-anchor=\"middle\" x=\"200.1655\" y=\"-677.3\">input:</text>\n",
       "<polyline fill=\"none\" points=\"172.3311,-670.5 228,-670.5 \" stroke=\"#000000\"/>\n",
       "<text fill=\"#000000\" font-family=\"Times,serif\" font-size=\"14.00\" text-anchor=\"middle\" x=\"200.1655\" y=\"-655.3\">output:</text>\n",
       "<polyline fill=\"none\" points=\"228,-648.5 228,-692.5 \" stroke=\"#000000\"/>\n",
       "<text fill=\"#000000\" font-family=\"Times,serif\" font-size=\"14.00\" text-anchor=\"middle\" x=\"287.3242\" y=\"-677.3\">(None, 28, 28, 1)</text>\n",
       "<polyline fill=\"none\" points=\"228,-670.5 346.6484,-670.5 \" stroke=\"#000000\"/>\n",
       "<text fill=\"#000000\" font-family=\"Times,serif\" font-size=\"14.00\" text-anchor=\"middle\" x=\"287.3242\" y=\"-655.3\">(None, 26, 26, 32)</text>\n",
       "</g>\n",
       "<!-- 112730967904 -->\n",
       "<g class=\"node\" id=\"node2\">\n",
       "<title>112730967904</title>\n",
       "<polygon fill=\"none\" points=\"46.2793,-567.5 46.2793,-611.5 346.6484,-611.5 346.6484,-567.5 46.2793,-567.5\" stroke=\"#000000\"/>\n",
       "<text fill=\"#000000\" font-family=\"Times,serif\" font-size=\"14.00\" text-anchor=\"middle\" x=\"109.3052\" y=\"-585.3\">conv2d_2: Conv2D</text>\n",
       "<polyline fill=\"none\" points=\"172.3311,-567.5 172.3311,-611.5 \" stroke=\"#000000\"/>\n",
       "<text fill=\"#000000\" font-family=\"Times,serif\" font-size=\"14.00\" text-anchor=\"middle\" x=\"200.1655\" y=\"-596.3\">input:</text>\n",
       "<polyline fill=\"none\" points=\"172.3311,-589.5 228,-589.5 \" stroke=\"#000000\"/>\n",
       "<text fill=\"#000000\" font-family=\"Times,serif\" font-size=\"14.00\" text-anchor=\"middle\" x=\"200.1655\" y=\"-574.3\">output:</text>\n",
       "<polyline fill=\"none\" points=\"228,-567.5 228,-611.5 \" stroke=\"#000000\"/>\n",
       "<text fill=\"#000000\" font-family=\"Times,serif\" font-size=\"14.00\" text-anchor=\"middle\" x=\"287.3242\" y=\"-596.3\">(None, 26, 26, 32)</text>\n",
       "<polyline fill=\"none\" points=\"228,-589.5 346.6484,-589.5 \" stroke=\"#000000\"/>\n",
       "<text fill=\"#000000\" font-family=\"Times,serif\" font-size=\"14.00\" text-anchor=\"middle\" x=\"287.3242\" y=\"-574.3\">(None, 24, 24, 64)</text>\n",
       "</g>\n",
       "<!-- 112730967960&#45;&gt;112730967904 -->\n",
       "<g class=\"edge\" id=\"edge2\">\n",
       "<title>112730967960-&gt;112730967904</title>\n",
       "<path d=\"M196.4639,-648.3664C196.4639,-640.1516 196.4639,-630.6579 196.4639,-621.7252\" fill=\"none\" stroke=\"#000000\"/>\n",
       "<polygon fill=\"#000000\" points=\"199.964,-621.6068 196.4639,-611.6068 192.964,-621.6069 199.964,-621.6068\" stroke=\"#000000\"/>\n",
       "</g>\n",
       "<!-- 112730964936 -->\n",
       "<g class=\"node\" id=\"node3\">\n",
       "<title>112730964936</title>\n",
       "<polygon fill=\"none\" points=\"42.7793,-486.5 42.7793,-530.5 350.1484,-530.5 350.1484,-486.5 42.7793,-486.5\" stroke=\"#000000\"/>\n",
       "<text fill=\"#000000\" font-family=\"Times,serif\" font-size=\"14.00\" text-anchor=\"middle\" x=\"105.8052\" y=\"-504.3\">conv2d_3: Conv2D</text>\n",
       "<polyline fill=\"none\" points=\"168.8311,-486.5 168.8311,-530.5 \" stroke=\"#000000\"/>\n",
       "<text fill=\"#000000\" font-family=\"Times,serif\" font-size=\"14.00\" text-anchor=\"middle\" x=\"196.6655\" y=\"-515.3\">input:</text>\n",
       "<polyline fill=\"none\" points=\"168.8311,-508.5 224.5,-508.5 \" stroke=\"#000000\"/>\n",
       "<text fill=\"#000000\" font-family=\"Times,serif\" font-size=\"14.00\" text-anchor=\"middle\" x=\"196.6655\" y=\"-493.3\">output:</text>\n",
       "<polyline fill=\"none\" points=\"224.5,-486.5 224.5,-530.5 \" stroke=\"#000000\"/>\n",
       "<text fill=\"#000000\" font-family=\"Times,serif\" font-size=\"14.00\" text-anchor=\"middle\" x=\"287.3242\" y=\"-515.3\">(None, 24, 24, 64)</text>\n",
       "<polyline fill=\"none\" points=\"224.5,-508.5 350.1484,-508.5 \" stroke=\"#000000\"/>\n",
       "<text fill=\"#000000\" font-family=\"Times,serif\" font-size=\"14.00\" text-anchor=\"middle\" x=\"287.3242\" y=\"-493.3\">(None, 22, 22, 128)</text>\n",
       "</g>\n",
       "<!-- 112730967904&#45;&gt;112730964936 -->\n",
       "<g class=\"edge\" id=\"edge3\">\n",
       "<title>112730967904-&gt;112730964936</title>\n",
       "<path d=\"M196.4639,-567.3664C196.4639,-559.1516 196.4639,-549.6579 196.4639,-540.7252\" fill=\"none\" stroke=\"#000000\"/>\n",
       "<polygon fill=\"#000000\" points=\"199.964,-540.6068 196.4639,-530.6068 192.964,-540.6069 199.964,-540.6068\" stroke=\"#000000\"/>\n",
       "</g>\n",
       "<!-- 112731843888 -->\n",
       "<g class=\"node\" id=\"node4\">\n",
       "<title>112731843888</title>\n",
       "<polygon fill=\"none\" points=\"0,-405.5 0,-449.5 392.9277,-449.5 392.9277,-405.5 0,-405.5\" stroke=\"#000000\"/>\n",
       "<text fill=\"#000000\" font-family=\"Times,serif\" font-size=\"14.00\" text-anchor=\"middle\" x=\"105.8052\" y=\"-423.3\">max_pooling2d_1: MaxPooling2D</text>\n",
       "<polyline fill=\"none\" points=\"211.6104,-405.5 211.6104,-449.5 \" stroke=\"#000000\"/>\n",
       "<text fill=\"#000000\" font-family=\"Times,serif\" font-size=\"14.00\" text-anchor=\"middle\" x=\"239.4448\" y=\"-434.3\">input:</text>\n",
       "<polyline fill=\"none\" points=\"211.6104,-427.5 267.2793,-427.5 \" stroke=\"#000000\"/>\n",
       "<text fill=\"#000000\" font-family=\"Times,serif\" font-size=\"14.00\" text-anchor=\"middle\" x=\"239.4448\" y=\"-412.3\">output:</text>\n",
       "<polyline fill=\"none\" points=\"267.2793,-405.5 267.2793,-449.5 \" stroke=\"#000000\"/>\n",
       "<text fill=\"#000000\" font-family=\"Times,serif\" font-size=\"14.00\" text-anchor=\"middle\" x=\"330.1035\" y=\"-434.3\">(None, 22, 22, 128)</text>\n",
       "<polyline fill=\"none\" points=\"267.2793,-427.5 392.9277,-427.5 \" stroke=\"#000000\"/>\n",
       "<text fill=\"#000000\" font-family=\"Times,serif\" font-size=\"14.00\" text-anchor=\"middle\" x=\"330.0908\" y=\"-412.3\">(None, 11, 11, 128)</text>\n",
       "</g>\n",
       "<!-- 112730964936&#45;&gt;112731843888 -->\n",
       "<g class=\"edge\" id=\"edge4\">\n",
       "<title>112730964936-&gt;112731843888</title>\n",
       "<path d=\"M196.4639,-486.3664C196.4639,-478.1516 196.4639,-468.6579 196.4639,-459.7252\" fill=\"none\" stroke=\"#000000\"/>\n",
       "<polygon fill=\"#000000\" points=\"199.964,-459.6068 196.4639,-449.6068 192.964,-459.6069 199.964,-459.6068\" stroke=\"#000000\"/>\n",
       "</g>\n",
       "<!-- 112730516448 -->\n",
       "<g class=\"node\" id=\"node5\">\n",
       "<title>112730516448</title>\n",
       "<polygon fill=\"none\" points=\"42.5161,-324.5 42.5161,-368.5 350.4116,-368.5 350.4116,-324.5 42.5161,-324.5\" stroke=\"#000000\"/>\n",
       "<text fill=\"#000000\" font-family=\"Times,serif\" font-size=\"14.00\" text-anchor=\"middle\" x=\"106.3179\" y=\"-342.3\">dropout_1: Dropout</text>\n",
       "<polyline fill=\"none\" points=\"170.1196,-324.5 170.1196,-368.5 \" stroke=\"#000000\"/>\n",
       "<text fill=\"#000000\" font-family=\"Times,serif\" font-size=\"14.00\" text-anchor=\"middle\" x=\"197.9541\" y=\"-353.3\">input:</text>\n",
       "<polyline fill=\"none\" points=\"170.1196,-346.5 225.7886,-346.5 \" stroke=\"#000000\"/>\n",
       "<text fill=\"#000000\" font-family=\"Times,serif\" font-size=\"14.00\" text-anchor=\"middle\" x=\"197.9541\" y=\"-331.3\">output:</text>\n",
       "<polyline fill=\"none\" points=\"225.7886,-324.5 225.7886,-368.5 \" stroke=\"#000000\"/>\n",
       "<text fill=\"#000000\" font-family=\"Times,serif\" font-size=\"14.00\" text-anchor=\"middle\" x=\"288.1001\" y=\"-353.3\">(None, 11, 11, 128)</text>\n",
       "<polyline fill=\"none\" points=\"225.7886,-346.5 350.4116,-346.5 \" stroke=\"#000000\"/>\n",
       "<text fill=\"#000000\" font-family=\"Times,serif\" font-size=\"14.00\" text-anchor=\"middle\" x=\"288.1001\" y=\"-331.3\">(None, 11, 11, 128)</text>\n",
       "</g>\n",
       "<!-- 112731843888&#45;&gt;112730516448 -->\n",
       "<g class=\"edge\" id=\"edge5\">\n",
       "<title>112731843888-&gt;112730516448</title>\n",
       "<path d=\"M196.4639,-405.3664C196.4639,-397.1516 196.4639,-387.6579 196.4639,-378.7252\" fill=\"none\" stroke=\"#000000\"/>\n",
       "<polygon fill=\"#000000\" points=\"199.964,-378.6068 196.4639,-368.6068 192.964,-378.6069 199.964,-378.6068\" stroke=\"#000000\"/>\n",
       "</g>\n",
       "<!-- 112730514376 -->\n",
       "<g class=\"node\" id=\"node6\">\n",
       "<title>112730514376</title>\n",
       "<polygon fill=\"none\" points=\"50.6851,-243.5 50.6851,-287.5 342.2427,-287.5 342.2427,-243.5 50.6851,-243.5\" stroke=\"#000000\"/>\n",
       "<text fill=\"#000000\" font-family=\"Times,serif\" font-size=\"14.00\" text-anchor=\"middle\" x=\"106.3179\" y=\"-261.3\">flatten_1: Flatten</text>\n",
       "<polyline fill=\"none\" points=\"161.9507,-243.5 161.9507,-287.5 \" stroke=\"#000000\"/>\n",
       "<text fill=\"#000000\" font-family=\"Times,serif\" font-size=\"14.00\" text-anchor=\"middle\" x=\"189.7852\" y=\"-272.3\">input:</text>\n",
       "<polyline fill=\"none\" points=\"161.9507,-265.5 217.6196,-265.5 \" stroke=\"#000000\"/>\n",
       "<text fill=\"#000000\" font-family=\"Times,serif\" font-size=\"14.00\" text-anchor=\"middle\" x=\"189.7852\" y=\"-250.3\">output:</text>\n",
       "<polyline fill=\"none\" points=\"217.6196,-243.5 217.6196,-287.5 \" stroke=\"#000000\"/>\n",
       "<text fill=\"#000000\" font-family=\"Times,serif\" font-size=\"14.00\" text-anchor=\"middle\" x=\"279.9312\" y=\"-272.3\">(None, 11, 11, 128)</text>\n",
       "<polyline fill=\"none\" points=\"217.6196,-265.5 342.2427,-265.5 \" stroke=\"#000000\"/>\n",
       "<text fill=\"#000000\" font-family=\"Times,serif\" font-size=\"14.00\" text-anchor=\"middle\" x=\"279.4438\" y=\"-250.3\">(None, 15488)</text>\n",
       "</g>\n",
       "<!-- 112730516448&#45;&gt;112730514376 -->\n",
       "<g class=\"edge\" id=\"edge6\">\n",
       "<title>112730516448-&gt;112730514376</title>\n",
       "<path d=\"M196.4639,-324.3664C196.4639,-316.1516 196.4639,-306.6579 196.4639,-297.7252\" fill=\"none\" stroke=\"#000000\"/>\n",
       "<polygon fill=\"#000000\" points=\"199.964,-297.6068 196.4639,-287.6068 192.964,-297.6069 199.964,-297.6068\" stroke=\"#000000\"/>\n",
       "</g>\n",
       "<!-- 112730513928 -->\n",
       "<g class=\"node\" id=\"node7\">\n",
       "<title>112730513928</title>\n",
       "<polygon fill=\"none\" points=\"67.6792,-162.5 67.6792,-206.5 325.2485,-206.5 325.2485,-162.5 67.6792,-162.5\" stroke=\"#000000\"/>\n",
       "<text fill=\"#000000\" font-family=\"Times,serif\" font-size=\"14.00\" text-anchor=\"middle\" x=\"119.8052\" y=\"-180.3\">dense_1: Dense</text>\n",
       "<polyline fill=\"none\" points=\"171.9312,-162.5 171.9312,-206.5 \" stroke=\"#000000\"/>\n",
       "<text fill=\"#000000\" font-family=\"Times,serif\" font-size=\"14.00\" text-anchor=\"middle\" x=\"199.7656\" y=\"-191.3\">input:</text>\n",
       "<polyline fill=\"none\" points=\"171.9312,-184.5 227.6001,-184.5 \" stroke=\"#000000\"/>\n",
       "<text fill=\"#000000\" font-family=\"Times,serif\" font-size=\"14.00\" text-anchor=\"middle\" x=\"199.7656\" y=\"-169.3\">output:</text>\n",
       "<polyline fill=\"none\" points=\"227.6001,-162.5 227.6001,-206.5 \" stroke=\"#000000\"/>\n",
       "<text fill=\"#000000\" font-family=\"Times,serif\" font-size=\"14.00\" text-anchor=\"middle\" x=\"276.4243\" y=\"-191.3\">(None, 15488)</text>\n",
       "<polyline fill=\"none\" points=\"227.6001,-184.5 325.2485,-184.5 \" stroke=\"#000000\"/>\n",
       "<text fill=\"#000000\" font-family=\"Times,serif\" font-size=\"14.00\" text-anchor=\"middle\" x=\"276.4243\" y=\"-169.3\">(None, 128)</text>\n",
       "</g>\n",
       "<!-- 112730514376&#45;&gt;112730513928 -->\n",
       "<g class=\"edge\" id=\"edge7\">\n",
       "<title>112730514376-&gt;112730513928</title>\n",
       "<path d=\"M196.4639,-243.3664C196.4639,-235.1516 196.4639,-225.6579 196.4639,-216.7252\" fill=\"none\" stroke=\"#000000\"/>\n",
       "<polygon fill=\"#000000\" points=\"199.964,-216.6068 196.4639,-206.6068 192.964,-216.6069 199.964,-216.6068\" stroke=\"#000000\"/>\n",
       "</g>\n",
       "<!-- 112730614416 -->\n",
       "<g class=\"node\" id=\"node8\">\n",
       "<title>112730614416</title>\n",
       "<polygon fill=\"none\" points=\"63.0034,-81.5 63.0034,-125.5 329.9243,-125.5 329.9243,-81.5 63.0034,-81.5\" stroke=\"#000000\"/>\n",
       "<text fill=\"#000000\" font-family=\"Times,serif\" font-size=\"14.00\" text-anchor=\"middle\" x=\"126.8052\" y=\"-99.3\">dropout_2: Dropout</text>\n",
       "<polyline fill=\"none\" points=\"190.6069,-81.5 190.6069,-125.5 \" stroke=\"#000000\"/>\n",
       "<text fill=\"#000000\" font-family=\"Times,serif\" font-size=\"14.00\" text-anchor=\"middle\" x=\"218.4414\" y=\"-110.3\">input:</text>\n",
       "<polyline fill=\"none\" points=\"190.6069,-103.5 246.2759,-103.5 \" stroke=\"#000000\"/>\n",
       "<text fill=\"#000000\" font-family=\"Times,serif\" font-size=\"14.00\" text-anchor=\"middle\" x=\"218.4414\" y=\"-88.3\">output:</text>\n",
       "<polyline fill=\"none\" points=\"246.2759,-81.5 246.2759,-125.5 \" stroke=\"#000000\"/>\n",
       "<text fill=\"#000000\" font-family=\"Times,serif\" font-size=\"14.00\" text-anchor=\"middle\" x=\"288.1001\" y=\"-110.3\">(None, 128)</text>\n",
       "<polyline fill=\"none\" points=\"246.2759,-103.5 329.9243,-103.5 \" stroke=\"#000000\"/>\n",
       "<text fill=\"#000000\" font-family=\"Times,serif\" font-size=\"14.00\" text-anchor=\"middle\" x=\"288.1001\" y=\"-88.3\">(None, 128)</text>\n",
       "</g>\n",
       "<!-- 112730513928&#45;&gt;112730614416 -->\n",
       "<g class=\"edge\" id=\"edge8\">\n",
       "<title>112730513928-&gt;112730614416</title>\n",
       "<path d=\"M196.4639,-162.3664C196.4639,-154.1516 196.4639,-144.6579 196.4639,-135.7252\" fill=\"none\" stroke=\"#000000\"/>\n",
       "<polygon fill=\"#000000\" points=\"199.964,-135.6068 196.4639,-125.6068 192.964,-135.6069 199.964,-135.6068\" stroke=\"#000000\"/>\n",
       "</g>\n",
       "<!-- 112732317680 -->\n",
       "<g class=\"node\" id=\"node9\">\n",
       "<title>112732317680</title>\n",
       "<polygon fill=\"none\" points=\"74.6792,-.5 74.6792,-44.5 318.2485,-44.5 318.2485,-.5 74.6792,-.5\" stroke=\"#000000\"/>\n",
       "<text fill=\"#000000\" font-family=\"Times,serif\" font-size=\"14.00\" text-anchor=\"middle\" x=\"126.8052\" y=\"-18.3\">dense_2: Dense</text>\n",
       "<polyline fill=\"none\" points=\"178.9312,-.5 178.9312,-44.5 \" stroke=\"#000000\"/>\n",
       "<text fill=\"#000000\" font-family=\"Times,serif\" font-size=\"14.00\" text-anchor=\"middle\" x=\"206.7656\" y=\"-29.3\">input:</text>\n",
       "<polyline fill=\"none\" points=\"178.9312,-22.5 234.6001,-22.5 \" stroke=\"#000000\"/>\n",
       "<text fill=\"#000000\" font-family=\"Times,serif\" font-size=\"14.00\" text-anchor=\"middle\" x=\"206.7656\" y=\"-7.3\">output:</text>\n",
       "<polyline fill=\"none\" points=\"234.6001,-.5 234.6001,-44.5 \" stroke=\"#000000\"/>\n",
       "<text fill=\"#000000\" font-family=\"Times,serif\" font-size=\"14.00\" text-anchor=\"middle\" x=\"276.4243\" y=\"-29.3\">(None, 128)</text>\n",
       "<polyline fill=\"none\" points=\"234.6001,-22.5 318.2485,-22.5 \" stroke=\"#000000\"/>\n",
       "<text fill=\"#000000\" font-family=\"Times,serif\" font-size=\"14.00\" text-anchor=\"middle\" x=\"276.4243\" y=\"-7.3\">(None, 10)</text>\n",
       "</g>\n",
       "<!-- 112730614416&#45;&gt;112732317680 -->\n",
       "<g class=\"edge\" id=\"edge9\">\n",
       "<title>112730614416-&gt;112732317680</title>\n",
       "<path d=\"M196.4639,-81.3664C196.4639,-73.1516 196.4639,-63.6579 196.4639,-54.7252\" fill=\"none\" stroke=\"#000000\"/>\n",
       "<polygon fill=\"#000000\" points=\"199.964,-54.6068 196.4639,-44.6068 192.964,-54.6069 199.964,-54.6068\" stroke=\"#000000\"/>\n",
       "</g>\n",
       "<!-- 112730967176 -->\n",
       "<g class=\"node\" id=\"node10\">\n",
       "<title>112730967176</title>\n",
       "<polygon fill=\"none\" points=\"146.7202,-729.5 146.7202,-765.5 246.2075,-765.5 246.2075,-729.5 146.7202,-729.5\" stroke=\"#000000\"/>\n",
       "<text fill=\"#000000\" font-family=\"Times,serif\" font-size=\"14.00\" text-anchor=\"middle\" x=\"196.4639\" y=\"-743.3\">112730967176</text>\n",
       "</g>\n",
       "<!-- 112730967176&#45;&gt;112730967960 -->\n",
       "<g class=\"edge\" id=\"edge1\">\n",
       "<title>112730967176-&gt;112730967960</title>\n",
       "<path d=\"M196.4639,-729.2521C196.4639,-721.3888 196.4639,-711.9498 196.4639,-702.9612\" fill=\"none\" stroke=\"#000000\"/>\n",
       "<polygon fill=\"#000000\" points=\"199.964,-702.7376 196.4639,-692.7377 192.964,-702.7377 199.964,-702.7376\" stroke=\"#000000\"/>\n",
       "</g>\n",
       "</g>\n",
       "</svg>"
      ],
      "text/plain": [
       "<IPython.core.display.SVG object>"
      ]
     },
     "execution_count": 12,
     "metadata": {},
     "output_type": "execute_result"
    }
   ],
   "source": [
    "SVG(model_to_dot(model, show_shapes=True).create(prog='dot', format='svg'))"
   ]
  },
  {
   "cell_type": "markdown",
   "metadata": {
    "colab_type": "text",
    "id": "5IhZseCdfJaP"
   },
   "source": [
    "## Optimizer"
   ]
  },
  {
   "cell_type": "code",
   "execution_count": 13,
   "metadata": {
    "colab": {},
    "colab_type": "code",
    "id": "fg_MY6g0fK0P"
   },
   "outputs": [],
   "source": [
    "optimizer = keras.optimizers.SGD(lr=learning_rate)"
   ]
  },
  {
   "cell_type": "markdown",
   "metadata": {
    "colab_type": "text",
    "id": "uJxeGY6wy9SY"
   },
   "source": [
    "## Compiling the model"
   ]
  },
  {
   "cell_type": "code",
   "execution_count": 14,
   "metadata": {
    "colab": {},
    "colab_type": "code",
    "id": "xf9mmKWK4QMh"
   },
   "outputs": [],
   "source": [
    "model.compile(loss=keras.losses.categorical_crossentropy, \n",
    "              optimizer=optimizer, \n",
    "              metrics=['accuracy'])"
   ]
  },
  {
   "cell_type": "markdown",
   "metadata": {
    "colab_type": "text",
    "id": "W1o7VFdvzCcY"
   },
   "source": [
    "## Training the model"
   ]
  },
  {
   "cell_type": "code",
   "execution_count": null,
   "metadata": {
    "colab": {},
    "colab_type": "code",
    "id": "hRMGGn5g4RdW"
   },
   "outputs": [
    {
     "name": "stdout",
     "output_type": "stream",
     "text": [
      "WARNING:tensorflow:From /anaconda3/lib/python3.7/site-packages/tensorflow/python/ops/math_ops.py:3066: to_int32 (from tensorflow.python.ops.math_ops) is deprecated and will be removed in a future version.\n",
      "Instructions for updating:\n",
      "Use tf.cast instead.\n",
      "Train on 60000 samples, validate on 10000 samples\n",
      "Epoch 1/10\n",
      "18432/60000 [========>.....................] - ETA: 5:18 - loss: 1.9252 - acc: 0.4000"
     ]
    }
   ],
   "source": [
    "model.fit(x_train, y_train,\n",
    "          batch_size=batch_size,\n",
    "          epochs=epochs,\n",
    "          verbose=1,\n",
    "          validation_data=(x_test, y_test))"
   ]
  },
  {
   "cell_type": "markdown",
   "metadata": {
    "colab_type": "text",
    "id": "bUFlA5EvzFDB"
   },
   "source": [
    "## Evaulating the model"
   ]
  },
  {
   "cell_type": "code",
   "execution_count": null,
   "metadata": {
    "colab": {},
    "colab_type": "code",
    "id": "R6U6JC6Z4Scj"
   },
   "outputs": [],
   "source": [
    "score = model.evaluate(x_test, y_test, verbose=0)\n",
    "print('Test loss:', score[0])\n",
    "print('Test accuracy:', score[1])"
   ]
  },
  {
   "cell_type": "markdown",
   "metadata": {
    "colab_type": "text",
    "id": "hrZZwM4PjhLo"
   },
   "source": [
    "## Prediction the model"
   ]
  },
  {
   "cell_type": "code",
   "execution_count": null,
   "metadata": {
    "colab": {},
    "colab_type": "code",
    "id": "EeQpuwtEofa1"
   },
   "outputs": [],
   "source": [
    "y_pred = model.predict(x_test)"
   ]
  },
  {
   "cell_type": "code",
   "execution_count": null,
   "metadata": {
    "colab": {},
    "colab_type": "code",
    "id": "NZWcHZaJgf1H"
   },
   "outputs": [],
   "source": [
    "plot_images(x=x_test[:25], y_true=y_test[:25], y_pred=y_pred[:25])"
   ]
  },
  {
   "cell_type": "code",
   "execution_count": null,
   "metadata": {
    "colab": {},
    "colab_type": "code",
    "id": "cTxF9jDUfOTt"
   },
   "outputs": [],
   "source": [
    "y_result = confusion_matrix(y_test.argmax(axis=1), y_pred.argmax(axis=1))\n",
    "sns.heatmap(pd.DataFrame(y_result, range(10), range(10)), annot=True, fmt='g')"
   ]
  }
 ],
 "metadata": {
  "accelerator": "GPU",
  "colab": {
   "collapsed_sections": [],
   "name": "04.MNIST.ipynb",
   "provenance": [
    {
     "file_id": "1iTGGKIfxRRrhWpQQUqHdfVMrfqkdE0un",
     "timestamp": 1554886414147
    }
   ],
   "version": "0.3.2"
  },
  "kernelspec": {
   "display_name": "Python 3",
   "language": "python",
   "name": "python3"
  },
  "language_info": {
   "codemirror_mode": {
    "name": "ipython",
    "version": 3
   },
   "file_extension": ".py",
   "mimetype": "text/x-python",
   "name": "python",
   "nbconvert_exporter": "python",
   "pygments_lexer": "ipython3",
   "version": "3.7.3"
  }
 },
 "nbformat": 4,
 "nbformat_minor": 2
}
