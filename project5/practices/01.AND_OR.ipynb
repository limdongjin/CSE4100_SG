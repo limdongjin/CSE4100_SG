{
 "cells": [
  {
   "cell_type": "markdown",
   "metadata": {
    "colab_type": "text",
    "id": "hmz9uH8tHrbw"
   },
   "source": [
    "# Import modules"
   ]
  },
  {
   "cell_type": "code",
   "execution_count": 1,
   "metadata": {
    "colab": {},
    "colab_type": "code",
    "id": "L52E8e-lHYsE"
   },
   "outputs": [],
   "source": [
    "import numpy as np\n",
    "%matplotlib inline\n",
    "import matplotlib.pyplot as plt"
   ]
  },
  {
   "cell_type": "markdown",
   "metadata": {
    "colab_type": "text",
    "id": "JEDP54yxWRBs"
   },
   "source": [
    "# Sigmoid function and derivative"
   ]
  },
  {
   "cell_type": "code",
   "execution_count": 2,
   "metadata": {
    "colab": {},
    "colab_type": "code",
    "id": "zgA4GEIVHeU6"
   },
   "outputs": [],
   "source": [
    "# Sigmoid Function\n",
    "def sigmoid(x):\n",
    "    return 1 / (1 + np.exp(-x))\n",
    "\n",
    "# Derivative of Sigmoid Function\n",
    "def derivative_sigmoid(x):\n",
    "    return x * (1 - x)"
   ]
  },
  {
   "cell_type": "markdown",
   "metadata": {
    "colab_type": "text",
    "id": "0gvKe4DuHpBd"
   },
   "source": [
    "# AND Problem"
   ]
  },
  {
   "cell_type": "markdown",
   "metadata": {
    "colab_type": "text",
    "id": "FGXr8EGwXpCd"
   },
   "source": [
    "## Data"
   ]
  },
  {
   "cell_type": "code",
   "execution_count": 95,
   "metadata": {
    "colab": {},
    "colab_type": "code",
    "id": "oeBPccv6H03j"
   },
   "outputs": [
    {
     "data": {
      "text/plain": [
       "<matplotlib.lines.Line2D at 0x1192d9710>"
      ]
     },
     "execution_count": 95,
     "metadata": {},
     "output_type": "execute_result"
    },
    {
     "data": {
      "image/png": "[encoded data removed]",
      "text/plain": [
       "<Figure size 432x288 with 1 Axes>"
      ]
     },
     "metadata": {
      "needs_background": "light"
     },
     "output_type": "display_data"
    }
   ],
   "source": [
    "# input\n",
    "x = np.array([[1,1], [1,-1], [-1,-1], [-1,1]])\n",
    "# output\n",
    "y = np.array([[1], [0], [0], [0]])\n",
    "\n",
    "# plot the training data\n",
    "fig, ax = plt.subplots()\n",
    "for i in range(y.shape[0]):\n",
    "  if y[i][0] == 0:\n",
    "    marker = 'ro'\n",
    "  else:\n",
    "    marker = 'bo'\n",
    "  ax.plot(x[i][0], x[i][1], marker)\n",
    "ax.axhline(y=0, color='k')\n",
    "ax.axvline(x=0, color='k')"
   ]
  },
  {
   "cell_type": "raw",
   "metadata": {
    "colab_type": "text",
    "id": "9W82FKBHXsIM"
   },
   "source": [
    "## Layer"
   ]
  },
  {
   "cell_type": "code",
   "execution_count": 92,
   "metadata": {
    "colab": {},
    "colab_type": "code",
    "id": "ZNkERUrqH2aJ"
   },
   "outputs": [
    {
     "name": "stdout",
     "output_type": "stream",
     "text": [
      "[[0.08061216]\n",
      " [0.1780366 ]] \n",
      "\n",
      " [[0.79943408]]\n"
     ]
    }
   ],
   "source": [
    "epoch = 5000 # number of training iterations\n",
    "learning_rate = 0.1\n",
    "\n",
    "# dimension of each layer\n",
    "d_in = x.shape[1] # number of features in the input dataset\n",
    "d_out = 1 # output layer\n",
    "\n",
    "# weight and bias initialization\n",
    "wout = np.random.uniform(size=(d_in, 1))\n",
    "bout = np.random.uniform(size=(1, d_out))\n",
    "\n",
    "print(wout, \"\\n\\n\",bout)"
   ]
  },
  {
   "cell_type": "markdown",
   "metadata": {
    "colab_type": "text",
    "id": "qvHIvWNuXx5f"
   },
   "source": [
    "## Train"
   ]
  },
  {
   "cell_type": "code",
   "execution_count": 94,
   "metadata": {
    "colab": {},
    "colab_type": "code",
    "id": "S2sWeoImIBVC"
   },
   "outputs": [
    {
     "name": "stdout",
     "output_type": "stream",
     "text": [
      "Epoch 0 : 0.003405541133106395\n",
      "Epoch 500 : 0.0030786091054350795\n",
      "Epoch 1000 : 0.0028081659120986436\n",
      "Epoch 1500 : 0.0025808212627608717\n",
      "Epoch 2000 : 0.0023870924266650973\n",
      "Epoch 2500 : 0.0022200790220762603\n",
      "Epoch 3000 : 0.002074641994250224\n",
      "Epoch 3500 : 0.00194687660254113\n",
      "Epoch 4000 : 0.0018337636494996593\n",
      "Epoch 4500 : 0.001732932457797287\n"
     ]
    },
    {
     "data": {
      "image/png": "[encoded data removed]",
      "text/plain": [
       "<Figure size 432x288 with 1 Axes>"
      ]
     },
     "metadata": {
      "needs_background": "light"
     },
     "output_type": "display_data"
    }
   ],
   "source": [
    "fig1, ax1 = plt.subplots()\n",
    "plt.xlabel('Epoch')\n",
    "plt.ylabel('Loss')\n",
    "for i in range(epoch):\n",
    "    # Forward pass\n",
    "    y_pred = sigmoid(x.dot(wout) + bout)\n",
    "    \n",
    "    # Compute and print loss\n",
    "    loss = np.square(y_pred - y)\n",
    "    if i % 500 == 0:\n",
    "        print('Epoch', i, ':', loss.sum())\n",
    "        ax1.plot(i, loss.sum(), 'ro')\n",
    "    # Backpropagation to compute gradients\n",
    "    grad_y_pred = (y - y_pred) * derivative_sigmoid(y_pred)\n",
    "    grad_wout = x.T.dot(grad_y_pred)\n",
    "    grad_bout = np.sum(grad_y_pred, axis=0, keepdims=True)\n",
    "    \n",
    "    # Update weights and biases\n",
    "    wout += grad_wout * learning_rate\n",
    "    bout += grad_bout * learning_rate"
   ]
  },
  {
   "cell_type": "markdown",
   "metadata": {
    "colab_type": "text",
    "id": "8VIZB_WMX0tr"
   },
   "source": [
    "## Prediction"
   ]
  },
  {
   "cell_type": "code",
   "execution_count": 63,
   "metadata": {
    "colab": {},
    "colab_type": "code",
    "id": "jUVes_YWVlDF"
   },
   "outputs": [
    {
     "name": "stdout",
     "output_type": "stream",
     "text": [
      "Input\n",
      "[[ 1  1]\n",
      " [ 1 -1]\n",
      " [-1 -1]\n",
      " [-1  1]]\n",
      "Label\n",
      "[[1]\n",
      " [0]\n",
      " [0]\n",
      " [0]]\n",
      "Output\n",
      "[[9.66292825e-01]\n",
      " [3.37071785e-02]\n",
      " [4.24446008e-05]\n",
      " [3.37071778e-02]]\n",
      "Weight\n",
      "[[3.35586594]\n",
      " [3.35586593]]\n",
      "Bias\n",
      "[[-3.35586589]]\n"
     ]
    }
   ],
   "source": [
    "print('Input')\n",
    "print(x)\n",
    "print('Label')\n",
    "print(y)\n",
    "print('Output')\n",
    "print(y_pred)\n",
    "print('Weight')\n",
    "print(wout)\n",
    "print('Bias')\n",
    "print(bout)"
   ]
  },
  {
   "cell_type": "markdown",
   "metadata": {
    "colab_type": "text",
    "id": "KyxUqwCBNgaA"
   },
   "source": [
    "# OR Problem"
   ]
  },
  {
   "cell_type": "markdown",
   "metadata": {
    "colab_type": "text",
    "id": "MeKK67UUYr0r"
   },
   "source": [
    "## Data"
   ]
  },
  {
   "cell_type": "code",
   "execution_count": 112,
   "metadata": {
    "colab": {},
    "colab_type": "code",
    "id": "91bg7rY8VRTb"
   },
   "outputs": [
    {
     "data": {
      "text/plain": [
       "<matplotlib.lines.Line2D at 0x11909ccc0>"
      ]
     },
     "execution_count": 112,
     "metadata": {},
     "output_type": "execute_result"
    },
    {
     "data": {
      "image/png": "[encoded data removed]",
      "text/plain": [
       "<Figure size 432x288 with 1 Axes>"
      ]
     },
     "metadata": {
      "needs_background": "light"
     },
     "output_type": "display_data"
    }
   ],
   "source": [
    "# input\n",
    "x = np.array([[1,1], [1,-1], [-1,-1], [-1,1]])\n",
    "# output\n",
    "y = np.array([[1], [1], [0], [1]])\n",
    "\n",
    "# plot the training data\n",
    "fig, ax = plt.subplots()\n",
    "for i in range(y.shape[0]):\n",
    "  if y[i][0] == 0:\n",
    "    marker = 'ro'\n",
    "  else:\n",
    "    marker = 'bo'\n",
    "  ax.plot(x[i][0], x[i][1], marker)\n",
    "ax.axhline(y=0, color='k')\n",
    "ax.axvline(x=0, color='k')"
   ]
  },
  {
   "cell_type": "markdown",
   "metadata": {
    "colab_type": "text",
    "id": "dgjPI111Ytoo"
   },
   "source": [
    "## Layer"
   ]
  },
  {
   "cell_type": "code",
   "execution_count": 97,
   "metadata": {
    "colab": {},
    "colab_type": "code",
    "id": "SBWpjvR-VUBy"
   },
   "outputs": [],
   "source": [
    "epoch = 5000 # number of training iterations\n",
    "learning_rate = 0.1\n",
    "\n",
    "# dimension of each layer\n",
    "d_in = x.shape[1] # number of features in the input dataset\n",
    "d_out = 1 # output layer\n",
    "\n",
    "# weight and bias initialization\n",
    "wout = np.random.uniform(size=(d_in, 1))\n",
    "bout = np.random.uniform(size=(1, d_out))"
   ]
  },
  {
   "cell_type": "markdown",
   "metadata": {
    "colab_type": "text",
    "id": "reACrSleYvMQ"
   },
   "source": [
    "## Train"
   ]
  },
  {
   "cell_type": "code",
   "execution_count": 99,
   "metadata": {
    "colab": {},
    "colab_type": "code",
    "id": "EOSgTnfWVVeC"
   },
   "outputs": [
    {
     "name": "stdout",
     "output_type": "stream",
     "text": [
      "Epoch 0 : 0.0034125157260807525\n",
      "Epoch 500 : 0.00308432731365062\n",
      "Epoch 1000 : 0.0028129369894820187\n",
      "Epoch 1500 : 0.002584861059356225\n",
      "Epoch 2000 : 0.0023905560828196984\n",
      "Epoch 2500 : 0.002223080854959058\n",
      "Epoch 3000 : 0.002077268062773999\n",
      "Epoch 3500 : 0.0019491929091590141\n",
      "Epoch 4000 : 0.0018358216472603229\n",
      "Epoch 4500 : 0.0017347728405309665\n"
     ]
    },
    {
     "data": {
      "image/png": "[encoded data removed]",
      "text/plain": [
       "<Figure size 432x288 with 1 Axes>"
      ]
     },
     "metadata": {
      "needs_background": "light"
     },
     "output_type": "display_data"
    }
   ],
   "source": [
    "fig2, ax2 = plt.subplots()\n",
    "plt.xlabel('Epoch')\n",
    "plt.ylabel('Loss')\n",
    "for i in range(epoch):\n",
    "    # Forward pass\n",
    "    y_pred = sigmoid(x.dot(wout) + bout)\n",
    "    \n",
    "    # Compute and print loss\n",
    "    loss = np.square(y_pred - y)\n",
    "    if i % 500 == 0:\n",
    "        print('Epoch', i, ':', loss.sum())\n",
    "        ax2.plot(i, loss.sum(), 'ro')\n",
    "\n",
    "    # Backpropagation to compute gradients\n",
    "    grad_y_pred = (y - y_pred) * derivative_sigmoid(y_pred)\n",
    "    grad_wout = x.T.dot(grad_y_pred)\n",
    "    grad_bout = np.sum(grad_y_pred, axis=0, keepdims=True)\n",
    "    \n",
    "    # Update weights and biases\n",
    "    wout += grad_wout * learning_rate\n",
    "    bout += grad_bout * learning_rate"
   ]
  },
  {
   "cell_type": "markdown",
   "metadata": {
    "colab_type": "text",
    "id": "-0J9x1BEY5lE"
   },
   "source": [
    "## Prediction"
   ]
  },
  {
   "cell_type": "code",
   "execution_count": 89,
   "metadata": {
    "colab": {},
    "colab_type": "code",
    "id": "Ad3QOsLZY5lJ"
   },
   "outputs": [
    {
     "name": "stdout",
     "output_type": "stream",
     "text": [
      "Input\n",
      "[[ 1  1]\n",
      " [ 1 -1]\n",
      " [-1 -1]\n",
      " [-1  1]]\n",
      "Label\n",
      "[[1]\n",
      " [1]\n",
      " [0]\n",
      " [1]]\n",
      "Output\n",
      "[[0.99995807]\n",
      " [0.96642578]\n",
      " [0.03357422]\n",
      " [0.96642579]]\n",
      "Weight\n",
      "[[3.35995507]\n",
      " [3.35995511]]\n",
      "Bias\n",
      "[[3.35995511]]\n"
     ]
    }
   ],
   "source": [
    "print('Input')\n",
    "print(x)\n",
    "print('Label')\n",
    "print(y)\n",
    "print('Output')\n",
    "print(y_pred)\n",
    "print('Weight')\n",
    "print(wout)\n",
    "print('Bias')\n",
    "print(bout)"
   ]
  },
  {
   "cell_type": "code",
   "execution_count": null,
   "metadata": {},
   "outputs": [],
   "source": []
  },
  {
   "cell_type": "code",
   "execution_count": null,
   "metadata": {},
   "outputs": [],
   "source": []
  }
 ],
 "metadata": {
  "colab": {
   "collapsed_sections": [],
   "name": "01.AND/OR.ipynb",
   "provenance": [],
   "version": "0.3.2"
  },
  "kernelspec": {
   "display_name": "Python 3",
   "language": "python",
   "name": "python3"
  },
  "language_info": {
   "codemirror_mode": {
    "name": "ipython",
    "version": 3
   },
   "file_extension": ".py",
   "mimetype": "text/x-python",
   "name": "python",
   "nbconvert_exporter": "python",
   "pygments_lexer": "ipython3",
   "version": "3.7.3"
  }
 },
 "nbformat": 4,
 "nbformat_minor": 2
}
