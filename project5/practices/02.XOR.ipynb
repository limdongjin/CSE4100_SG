{
 "cells": [
  {
   "cell_type": "markdown",
   "metadata": {
    "colab_type": "text",
    "id": "ydqJyPtgWdbE"
   },
   "source": [
    "# Import modules"
   ]
  },
  {
   "cell_type": "code",
   "execution_count": 1,
   "metadata": {
    "colab": {},
    "colab_type": "code",
    "id": "pISfay6wV_JP"
   },
   "outputs": [],
   "source": [
    "import numpy as np\n",
    "%matplotlib inline\n",
    "import matplotlib.pyplot as plt"
   ]
  },
  {
   "cell_type": "markdown",
   "metadata": {
    "colab_type": "text",
    "id": "QyXb7pyHW1Kv"
   },
   "source": [
    "# Sigmoid function and derivative\n"
   ]
  },
  {
   "cell_type": "code",
   "execution_count": 2,
   "metadata": {
    "colab": {},
    "colab_type": "code",
    "id": "9j2KPLowW0gP"
   },
   "outputs": [],
   "source": [
    "# Sigmoid Function\n",
    "def sigmoid(x):\n",
    "    return 1 / (1 + np.exp(-x))\n",
    "\n",
    "# Derivative of Sigmoid Function\n",
    "def derivative_sigmoid(x):\n",
    "    return x * (1 - x)"
   ]
  },
  {
   "cell_type": "markdown",
   "metadata": {
    "colab_type": "text",
    "id": "FGXr8EGwXpCd"
   },
   "source": [
    "# Data"
   ]
  },
  {
   "cell_type": "code",
   "execution_count": 3,
   "metadata": {
    "colab": {},
    "colab_type": "code",
    "id": "z7AnP3dHW_h7"
   },
   "outputs": [
    {
     "data": {
      "text/plain": [
       "<matplotlib.lines.Line2D at 0x114b5a278>"
      ]
     },
     "execution_count": 3,
     "metadata": {},
     "output_type": "execute_result"
    },
    {
     "data": {
      "image/png": "[encoded data removed]",
      "text/plain": [
       "<Figure size 432x288 with 1 Axes>"
      ]
     },
     "metadata": {
      "needs_background": "light"
     },
     "output_type": "display_data"
    }
   ],
   "source": [
    "# input\n",
    "x = np.array([[1,1], [1,-1], [-1,-1], [-1,1]])\n",
    "# output\n",
    "y = np.array([[0], [1], [0], [1]])\n",
    "\n",
    "# plot the training data\n",
    "fig, ax = plt.subplots()\n",
    "for i in range(y.shape[0]):\n",
    "  if y[i][0] == 0:\n",
    "    marker = 'ro'\n",
    "  else:\n",
    "    marker = 'bo'\n",
    "  ax.plot(x[i][0], x[i][1], marker)\n",
    "ax.axhline(y=0, color='k')\n",
    "ax.axvline(x=0, color='k')"
   ]
  },
  {
   "cell_type": "markdown",
   "metadata": {
    "colab_type": "text",
    "id": "BvV9bv2qXNnK"
   },
   "source": [
    "# With single layer perceptron"
   ]
  },
  {
   "cell_type": "markdown",
   "metadata": {
    "colab_type": "text",
    "id": "9W82FKBHXsIM"
   },
   "source": [
    "## Layer"
   ]
  },
  {
   "cell_type": "code",
   "execution_count": 4,
   "metadata": {
    "colab": {},
    "colab_type": "code",
    "id": "dXkfCZFgXQl8"
   },
   "outputs": [],
   "source": [
    "epoch = 5000 # number of training iterations\n",
    "learning_rate = 0.1\n",
    "\n",
    "# dimension of each layer\n",
    "d_in = x.shape[1] # number of features in the input dataset\n",
    "d_out = 1 # output layer\n",
    "\n",
    "# weight and bias initialization\n",
    "wout = np.random.uniform(size=(d_in, 1))\n",
    "bout = np.random.uniform(size=(1, d_out))"
   ]
  },
  {
   "cell_type": "markdown",
   "metadata": {
    "colab_type": "text",
    "id": "qvHIvWNuXx5f"
   },
   "source": [
    "## Training"
   ]
  },
  {
   "cell_type": "code",
   "execution_count": 6,
   "metadata": {
    "colab": {},
    "colab_type": "code",
    "id": "gaDMRM_TXSMM"
   },
   "outputs": [
    {
     "name": "stdout",
     "output_type": "stream",
     "text": [
      "Epoch 0 : 1.0\n",
      "Epoch 500 : 1.0\n",
      "Epoch 1000 : 1.0\n",
      "Epoch 1500 : 1.0\n",
      "Epoch 2000 : 1.0\n",
      "Epoch 2500 : 1.0\n",
      "Epoch 3000 : 1.0\n",
      "Epoch 3500 : 1.0\n",
      "Epoch 4000 : 1.0\n",
      "Epoch 4500 : 1.0\n"
     ]
    },
    {
     "data": {
      "image/png": "[encoded data removed]",
      "text/plain": [
       "<Figure size 432x288 with 1 Axes>"
      ]
     },
     "metadata": {
      "needs_background": "light"
     },
     "output_type": "display_data"
    }
   ],
   "source": [
    "fig, ax = plt.subplots()\n",
    "for i in range(epoch):\n",
    "    # Forward pass\n",
    "    y_pred = sigmoid(x.dot(wout) + bout)\n",
    "    \n",
    "    # Compute and print loss\n",
    "    loss = np.square(y_pred - y)\n",
    "    if i % 500 == 0:\n",
    "        print('Epoch', i, ':', loss.sum())\n",
    "        ax.plot(i, loss.sum(), 'ro')\n",
    "    # Backpropagation to compute gradients\n",
    "    grad_y_pred = (y - y_pred) * derivative_sigmoid(y_pred)\n",
    "    grad_wout = x.T.dot(grad_y_pred)\n",
    "    grad_bout = np.sum(grad_y_pred, axis=0, keepdims=True)\n",
    "    \n",
    "    # Update weights and biases\n",
    "    wout += grad_wout * learning_rate\n",
    "    bout += grad_bout * learning_rate"
   ]
  },
  {
   "cell_type": "markdown",
   "metadata": {
    "colab_type": "text",
    "id": "qtE6YjIIZRuD"
   },
   "source": [
    "## Prediction"
   ]
  },
  {
   "cell_type": "code",
   "execution_count": 7,
   "metadata": {
    "colab": {},
    "colab_type": "code",
    "id": "d1hHQlhLZWAI"
   },
   "outputs": [
    {
     "name": "stdout",
     "output_type": "stream",
     "text": [
      "Input\n",
      "[[ 1  1]\n",
      " [ 1 -1]\n",
      " [-1 -1]\n",
      " [-1  1]]\n",
      "Label\n",
      "[[0]\n",
      " [1]\n",
      " [0]\n",
      " [1]]\n",
      "Output\n",
      "[[0.5]\n",
      " [0.5]\n",
      " [0.5]\n",
      " [0.5]]\n",
      "Weight\n",
      "[[4.36851795e-18]\n",
      " [2.31378255e-16]]\n",
      "Bias\n",
      "[[-7.34469382e-17]]\n"
     ]
    }
   ],
   "source": [
    "print('Input')\n",
    "print(x)\n",
    "print('Label')\n",
    "print(y)\n",
    "print('Output')\n",
    "print(y_pred)\n",
    "print('Weight')\n",
    "print(wout)\n",
    "print('Bias')\n",
    "print(bout)"
   ]
  },
  {
   "cell_type": "markdown",
   "metadata": {
    "colab_type": "text",
    "id": "7eJATdHvXYYf"
   },
   "source": [
    "# With multi layer perceptron"
   ]
  },
  {
   "cell_type": "markdown",
   "metadata": {
    "colab_type": "text",
    "id": "dsv4Q8CjZmJP"
   },
   "source": [
    "## Layer"
   ]
  },
  {
   "cell_type": "code",
   "execution_count": null,
   "metadata": {
    "colab": {},
    "colab_type": "code",
    "id": "1WaScNUiXXLG"
   },
   "outputs": [],
   "source": [
    "epoch = 5000 # number of training iterations\n",
    "learning_rate = 0.1\n",
    "\n",
    "# dimension of each layer\n",
    "d_in = x.shape[1] # number of features in the input dataset\n",
    "d_h = 2   # hidden layer\n",
    "d_out = 1 # output layer\n",
    "\n",
    "# weight and bias initialization\n",
    "wh = np.random.uniform(size=(d_in, d_h))\n",
    "bh = np.random.uniform(size=(1, d_h))\n",
    "wout = np.random.uniform(size=(d_h, d_out))\n",
    "bout = np.random.uniform(size=(1, d_out))"
   ]
  },
  {
   "cell_type": "markdown",
   "metadata": {
    "colab_type": "text",
    "id": "aRiSUlLuZnxf"
   },
   "source": [
    "## Training"
   ]
  },
  {
   "cell_type": "code",
   "execution_count": null,
   "metadata": {
    "colab": {},
    "colab_type": "code",
    "id": "knu_x5aqXbdc"
   },
   "outputs": [],
   "source": [
    "for i in range(epoch):\n",
    "    # Forward pass\n",
    "    h = sigmoid(x.dot(wh) + bh)\n",
    "    y_pred = sigmoid(h.dot(wout) + bout)\n",
    "    \n",
    "    # Compute and print loss\n",
    "    loss = np.square(y_pred - y)\n",
    "    if i % 500 == 0:\n",
    "        print('Epoch', i, ':', loss.sum())\n",
    "\n",
    "    # Backpropagation to compute gradients\n",
    "    grad_y_pred = (y - y_pred) * derivative_sigmoid(y_pred)\n",
    "    grad_wout = h.T.dot(grad_y_pred)\n",
    "    grad_bout = np.sum(grad_y_pred, axis=0, keepdims=True)\n",
    "    grad_h = grad_y_pred.dot(wout.T) * derivative_sigmoid(h)\n",
    "    grad_wh = x.T.dot(grad_h)\n",
    "    grad_bh = np.sum(grad_h, axis=0, keepdims=True)\n",
    "\n",
    "    # Update weights and biases\n",
    "    wout += grad_wout * learning_rate\n",
    "    bout += grad_bout * learning_rate\n",
    "    wh += grad_wh * learning_rate\n",
    "    bh += grad_bh * learning_rate\n",
    "    \n"
   ]
  },
  {
   "cell_type": "markdown",
   "metadata": {
    "colab_type": "text",
    "id": "fcqtQVZuZtYL"
   },
   "source": [
    "## Prediction"
   ]
  },
  {
   "cell_type": "code",
   "execution_count": null,
   "metadata": {
    "colab": {},
    "colab_type": "code",
    "id": "zXvIuM_dZv_A"
   },
   "outputs": [],
   "source": [
    "print('Input')\n",
    "print(x)\n",
    "print('Label')\n",
    "print(y)\n",
    "print('Output')\n",
    "print(y_pred)\n",
    "print('Weight @ Hidden layer')\n",
    "print(wh)\n",
    "print('Bias @ Hidden layer')\n",
    "print(bh)\n",
    "print('Weight @ Output layer')\n",
    "print(wout)\n",
    "print('Bias @ Output layer')\n",
    "print(bout)"
   ]
  }
 ],
 "metadata": {
  "colab": {
   "collapsed_sections": [],
   "name": "02.XOR.ipynb",
   "provenance": [],
   "version": "0.3.2"
  },
  "kernelspec": {
   "display_name": "Python 3",
   "language": "python",
   "name": "python3"
  },
  "language_info": {
   "codemirror_mode": {
    "name": "ipython",
    "version": 3
   },
   "file_extension": ".py",
   "mimetype": "text/x-python",
   "name": "python",
   "nbconvert_exporter": "python",
   "pygments_lexer": "ipython3",
   "version": "3.7.3"
  }
 },
 "nbformat": 4,
 "nbformat_minor": 2
}
