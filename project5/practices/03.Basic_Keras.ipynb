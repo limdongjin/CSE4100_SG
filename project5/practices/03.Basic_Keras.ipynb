{
 "cells": [
  {
   "cell_type": "markdown",
   "metadata": {
    "colab_type": "text",
    "id": "CiIPSFIGlgBp"
   },
   "source": [
    "# Import modules"
   ]
  },
  {
   "cell_type": "code",
   "execution_count": null,
   "metadata": {},
   "outputs": [],
   "source": []
  },
  {
   "cell_type": "code",
   "execution_count": 1,
   "metadata": {
    "colab": {},
    "colab_type": "code",
    "id": "WL1CAQxIcnG2"
   },
   "outputs": [
    {
     "name": "stderr",
     "output_type": "stream",
     "text": [
      "Using TensorFlow backend.\n"
     ]
    }
   ],
   "source": [
    "import keras\n",
    "from keras.models import Sequential\n",
    "from keras.layers.core import Dense, Activation\n",
    "from keras.utils.vis_utils import model_to_dot\n",
    "from IPython.display import SVG\n",
    "import numpy as np\n",
    "%matplotlib inline\n",
    "import matplotlib.pyplot as plt"
   ]
  },
  {
   "cell_type": "markdown",
   "metadata": {
    "colab_type": "text",
    "id": "aRWawtbFli2i"
   },
   "source": [
    "# Tuning parameters"
   ]
  },
  {
   "cell_type": "code",
   "execution_count": 2,
   "metadata": {
    "colab": {},
    "colab_type": "code",
    "id": "EZ5G8Hmbcv8T"
   },
   "outputs": [],
   "source": [
    "epoch = 5000\n",
    "learning_rate = 0.1"
   ]
  },
  {
   "cell_type": "markdown",
   "metadata": {
    "colab_type": "text",
    "id": "fcSMa3X6ll0r"
   },
   "source": [
    "# Data"
   ]
  },
  {
   "cell_type": "code",
   "execution_count": 3,
   "metadata": {
    "colab": {},
    "colab_type": "code",
    "id": "S05712WWdMrQ"
   },
   "outputs": [
    {
     "data": {
      "text/plain": [
       "<matplotlib.lines.Line2D at 0xb348ea630>"
      ]
     },
     "execution_count": 3,
     "metadata": {},
     "output_type": "execute_result"
    },
    {
     "data": {
      "image/png": "[encoded data removed]",
      "text/plain": [
       "<Figure size 432x288 with 1 Axes>"
      ]
     },
     "metadata": {
      "needs_background": "light"
     },
     "output_type": "display_data"
    }
   ],
   "source": [
    "# input\n",
    "x = np.array([[1,1], [1,-1], [-1,-1], [-1,1]])\n",
    "# output\n",
    "y = np.array([[0], [1], [0], [1]])\n",
    "\n",
    "# plot the training data\n",
    "fig, ax = plt.subplots()\n",
    "for i in range(y.shape[0]):\n",
    "  if y[i][0] == 0:\n",
    "    marker = 'ro'\n",
    "  else:\n",
    "    marker = 'bo'\n",
    "  ax.plot(x[i][0], x[i][1], marker)\n",
    "ax.axhline(y=0, color='k')\n",
    "ax.axvline(x=0, color='k')"
   ]
  },
  {
   "cell_type": "markdown",
   "metadata": {
    "colab_type": "text",
    "id": "aV9xM6jFmEDk"
   },
   "source": [
    "# Creating the DNN model"
   ]
  },
  {
   "cell_type": "code",
   "execution_count": 4,
   "metadata": {
    "colab": {},
    "colab_type": "code",
    "id": "WMrREq05ga2s"
   },
   "outputs": [],
   "source": [
    "model = Sequential()"
   ]
  },
  {
   "cell_type": "markdown",
   "metadata": {
    "colab_type": "text",
    "id": "6zZGTnoymK47"
   },
   "source": [
    "## Adding layers to the model"
   ]
  },
  {
   "cell_type": "code",
   "execution_count": 5,
   "metadata": {
    "colab": {},
    "colab_type": "code",
    "id": "FaLnBwrugeiz"
   },
   "outputs": [
    {
     "name": "stdout",
     "output_type": "stream",
     "text": [
      "WARNING:tensorflow:From /anaconda3/lib/python3.7/site-packages/tensorflow/python/framework/op_def_library.py:263: colocate_with (from tensorflow.python.framework.ops) is deprecated and will be removed in a future version.\n",
      "Instructions for updating:\n",
      "Colocations handled automatically by placer.\n"
     ]
    }
   ],
   "source": [
    "model.add(Dense(2, activation='sigmoid', input_dim=2))\n",
    "model.add(Dense(1, activation='sigmoid'))"
   ]
  },
  {
   "cell_type": "markdown",
   "metadata": {
    "colab_type": "text",
    "id": "C6mgSyRS1bZA"
   },
   "source": [
    "## Visualization the model"
   ]
  },
  {
   "cell_type": "code",
   "execution_count": 7,
   "metadata": {
    "colab": {},
    "colab_type": "code",
    "id": "aEGW1fQI1c9W"
   },
   "outputs": [
    {
     "data": {
      "image/svg+xml": [
       "<svg height=\"207pt\" viewBox=\"0.00 0.00 237.57 207.00\" width=\"238pt\" xmlns=\"http://www.w3.org/2000/svg\" xmlns:xlink=\"http://www.w3.org/1999/xlink\">\n",
       "<g class=\"graph\" id=\"graph0\" transform=\"scale(1 1) rotate(0) translate(4 203)\">\n",
       "<title>G</title>\n",
       "<polygon fill=\"#ffffff\" points=\"-4,4 -4,-203 233.5693,-203 233.5693,4 -4,4\" stroke=\"transparent\"/>\n",
       "<!-- 48126903856 -->\n",
       "<g class=\"node\" id=\"node1\">\n",
       "<title>48126903856</title>\n",
       "<polygon fill=\"none\" points=\"0,-81.5 0,-125.5 229.5693,-125.5 229.5693,-81.5 0,-81.5\" stroke=\"#000000\"/>\n",
       "<text fill=\"#000000\" font-family=\"Times,serif\" font-size=\"14.00\" text-anchor=\"middle\" x=\"52.126\" y=\"-99.3\">dense_1: Dense</text>\n",
       "<polyline fill=\"none\" points=\"104.252,-81.5 104.252,-125.5 \" stroke=\"#000000\"/>\n",
       "<text fill=\"#000000\" font-family=\"Times,serif\" font-size=\"14.00\" text-anchor=\"middle\" x=\"132.0864\" y=\"-110.3\">input:</text>\n",
       "<polyline fill=\"none\" points=\"104.252,-103.5 159.9209,-103.5 \" stroke=\"#000000\"/>\n",
       "<text fill=\"#000000\" font-family=\"Times,serif\" font-size=\"14.00\" text-anchor=\"middle\" x=\"132.0864\" y=\"-88.3\">output:</text>\n",
       "<polyline fill=\"none\" points=\"159.9209,-81.5 159.9209,-125.5 \" stroke=\"#000000\"/>\n",
       "<text fill=\"#000000\" font-family=\"Times,serif\" font-size=\"14.00\" text-anchor=\"middle\" x=\"194.7451\" y=\"-110.3\">(None, 2)</text>\n",
       "<polyline fill=\"none\" points=\"159.9209,-103.5 229.5693,-103.5 \" stroke=\"#000000\"/>\n",
       "<text fill=\"#000000\" font-family=\"Times,serif\" font-size=\"14.00\" text-anchor=\"middle\" x=\"194.7451\" y=\"-88.3\">(None, 2)</text>\n",
       "</g>\n",
       "<!-- 48126906096 -->\n",
       "<g class=\"node\" id=\"node2\">\n",
       "<title>48126906096</title>\n",
       "<polygon fill=\"none\" points=\"0,-.5 0,-44.5 229.5693,-44.5 229.5693,-.5 0,-.5\" stroke=\"#000000\"/>\n",
       "<text fill=\"#000000\" font-family=\"Times,serif\" font-size=\"14.00\" text-anchor=\"middle\" x=\"52.126\" y=\"-18.3\">dense_2: Dense</text>\n",
       "<polyline fill=\"none\" points=\"104.252,-.5 104.252,-44.5 \" stroke=\"#000000\"/>\n",
       "<text fill=\"#000000\" font-family=\"Times,serif\" font-size=\"14.00\" text-anchor=\"middle\" x=\"132.0864\" y=\"-29.3\">input:</text>\n",
       "<polyline fill=\"none\" points=\"104.252,-22.5 159.9209,-22.5 \" stroke=\"#000000\"/>\n",
       "<text fill=\"#000000\" font-family=\"Times,serif\" font-size=\"14.00\" text-anchor=\"middle\" x=\"132.0864\" y=\"-7.3\">output:</text>\n",
       "<polyline fill=\"none\" points=\"159.9209,-.5 159.9209,-44.5 \" stroke=\"#000000\"/>\n",
       "<text fill=\"#000000\" font-family=\"Times,serif\" font-size=\"14.00\" text-anchor=\"middle\" x=\"194.7451\" y=\"-29.3\">(None, 2)</text>\n",
       "<polyline fill=\"none\" points=\"159.9209,-22.5 229.5693,-22.5 \" stroke=\"#000000\"/>\n",
       "<text fill=\"#000000\" font-family=\"Times,serif\" font-size=\"14.00\" text-anchor=\"middle\" x=\"194.7451\" y=\"-7.3\">(None, 1)</text>\n",
       "</g>\n",
       "<!-- 48126903856&#45;&gt;48126906096 -->\n",
       "<g class=\"edge\" id=\"edge2\">\n",
       "<title>48126903856-&gt;48126906096</title>\n",
       "<path d=\"M114.7847,-81.3664C114.7847,-73.1516 114.7847,-63.6579 114.7847,-54.7252\" fill=\"none\" stroke=\"#000000\"/>\n",
       "<polygon fill=\"#000000\" points=\"118.2848,-54.6068 114.7847,-44.6068 111.2848,-54.6069 118.2848,-54.6068\" stroke=\"#000000\"/>\n",
       "</g>\n",
       "<!-- 48126906264 -->\n",
       "<g class=\"node\" id=\"node3\">\n",
       "<title>48126906264</title>\n",
       "<polygon fill=\"none\" points=\"68.2847,-162.5 68.2847,-198.5 161.2847,-198.5 161.2847,-162.5 68.2847,-162.5\" stroke=\"#000000\"/>\n",
       "<text fill=\"#000000\" font-family=\"Times,serif\" font-size=\"14.00\" text-anchor=\"middle\" x=\"114.7847\" y=\"-176.3\">48126906264</text>\n",
       "</g>\n",
       "<!-- 48126906264&#45;&gt;48126903856 -->\n",
       "<g class=\"edge\" id=\"edge1\">\n",
       "<title>48126906264-&gt;48126903856</title>\n",
       "<path d=\"M114.7847,-162.2521C114.7847,-154.3888 114.7847,-144.9498 114.7847,-135.9612\" fill=\"none\" stroke=\"#000000\"/>\n",
       "<polygon fill=\"#000000\" points=\"118.2848,-135.7376 114.7847,-125.7377 111.2848,-135.7377 118.2848,-135.7376\" stroke=\"#000000\"/>\n",
       "</g>\n",
       "</g>\n",
       "</svg>"
      ],
      "text/plain": [
       "<IPython.core.display.SVG object>"
      ]
     },
     "execution_count": 7,
     "metadata": {},
     "output_type": "execute_result"
    }
   ],
   "source": [
    "SVG(model_to_dot(model, show_shapes=True).create(prog='dot', format='svg'))"
   ]
  },
  {
   "cell_type": "markdown",
   "metadata": {
    "colab_type": "text",
    "id": "q-bjQRyEmPc0"
   },
   "source": [
    "## Optimizer"
   ]
  },
  {
   "cell_type": "code",
   "execution_count": 8,
   "metadata": {
    "colab": {},
    "colab_type": "code",
    "id": "kWcukFUQgroH"
   },
   "outputs": [],
   "source": [
    "optimizer = keras.optimizers.SGD(lr=learning_rate)"
   ]
  },
  {
   "cell_type": "markdown",
   "metadata": {
    "colab_type": "text",
    "id": "Xsc2yPxtmREp"
   },
   "source": [
    "## Compiling the model"
   ]
  },
  {
   "cell_type": "code",
   "execution_count": 9,
   "metadata": {
    "colab": {},
    "colab_type": "code",
    "id": "Nr_ZsYP2golV"
   },
   "outputs": [],
   "source": [
    "model.compile(loss=keras.losses.mean_squared_error, \n",
    "              optimizer=optimizer, \n",
    "              metrics=['accuracy'])"
   ]
  },
  {
   "cell_type": "markdown",
   "metadata": {
    "colab_type": "text",
    "id": "ySPdutkimVwP"
   },
   "source": [
    "## Training the model"
   ]
  },
  {
   "cell_type": "code",
   "execution_count": 15,
   "metadata": {
    "colab": {},
    "colab_type": "code",
    "id": "CqYqzOHrhBxn"
   },
   "outputs": [
    {
     "name": "stdout",
     "output_type": "stream",
     "text": [
      "Epoch 0 : 0.001176762394607067\n",
      "Epoch 500 : 0.0011495177168399096\n",
      "Epoch 1000 : 0.0011234763078391552\n",
      "Epoch 1500 : 0.0010985617991536856\n",
      "Epoch 2000 : 0.0010747065534815192\n",
      "Epoch 2500 : 0.001051841420121491\n",
      "Epoch 3000 : 0.0010299021378159523\n",
      "Epoch 3500 : 0.0010088555281981826\n",
      "Epoch 4000 : 0.0009886270854622126\n",
      "Epoch 4500 : 0.0009691655286587775\n"
     ]
    },
    {
     "data": {
      "text/plain": [
       "Text(0, 0.5, 'Loss')"
      ]
     },
     "execution_count": 15,
     "metadata": {},
     "output_type": "execute_result"
    },
    {
     "data": {
      "image/png": "[encoded data removed]",
      "text/plain": [
       "<Figure size 432x288 with 1 Axes>"
      ]
     },
     "metadata": {
      "needs_background": "light"
     },
     "output_type": "display_data"
    }
   ],
   "source": [
    "history = model.fit(x, y, epochs=epoch, verbose=0)\n",
    "for i in range(0, epoch, 500):\n",
    "  print('Epoch', i, ':', history.history['loss'][i])\n",
    "\n",
    "fig, ax = plt.subplots()\n",
    "ax.plot(history.history['loss'])\n",
    "ax.set_xlabel('Epoch')\n",
    "ax.set_ylabel('Loss')"
   ]
  },
  {
   "cell_type": "markdown",
   "metadata": {
    "colab_type": "text",
    "id": "tMbpIycFmZgj"
   },
   "source": [
    "## Evaulating the model"
   ]
  },
  {
   "cell_type": "code",
   "execution_count": 16,
   "metadata": {
    "colab": {},
    "colab_type": "code",
    "id": "CryfCFhumfBe"
   },
   "outputs": [
    {
     "name": "stdout",
     "output_type": "stream",
     "text": [
      "Loss: 0.0009504612535238266\n",
      "Accuracy: 1.0\n"
     ]
    }
   ],
   "source": [
    "score = model.evaluate(x, y, verbose=0)\n",
    "print('Loss:', score[0])\n",
    "print('Accuracy:', score[1])"
   ]
  },
  {
   "cell_type": "markdown",
   "metadata": {
    "colab_type": "text",
    "id": "ohRoTxH6mzVU"
   },
   "source": [
    "## Prediction the model"
   ]
  },
  {
   "cell_type": "code",
   "execution_count": 17,
   "metadata": {
    "colab": {},
    "colab_type": "code",
    "id": "A6d1rKykmuYa"
   },
   "outputs": [],
   "source": [
    "y_pred = model.predict(x)"
   ]
  },
  {
   "cell_type": "code",
   "execution_count": 18,
   "metadata": {
    "colab": {},
    "colab_type": "code",
    "id": "GnS-NnaSnLwR"
   },
   "outputs": [
    {
     "name": "stdout",
     "output_type": "stream",
     "text": [
      "Input\n",
      "[[ 1  1]\n",
      " [ 1 -1]\n",
      " [-1 -1]\n",
      " [-1  1]]\n",
      "Label\n",
      "[[0]\n",
      " [1]\n",
      " [0]\n",
      " [1]]\n",
      "Output\n",
      "[[0.02921682]\n",
      " [0.9676289 ]\n",
      " [0.02919667]\n",
      " [0.9676289 ]]\n"
     ]
    }
   ],
   "source": [
    "print('Input')\n",
    "print(x)\n",
    "print('Label')\n",
    "print(y)\n",
    "print('Output')\n",
    "print(y_pred)"
   ]
  },
  {
   "cell_type": "code",
   "execution_count": null,
   "metadata": {},
   "outputs": [],
   "source": []
  }
 ],
 "metadata": {
  "colab": {
   "collapsed_sections": [],
   "name": "03.Basic_Keras.ipynb",
   "provenance": [],
   "version": "0.3.2"
  },
  "kernelspec": {
   "display_name": "Python 3",
   "language": "python",
   "name": "python3"
  },
  "language_info": {
   "codemirror_mode": {
    "name": "ipython",
    "version": 3
   },
   "file_extension": ".py",
   "mimetype": "text/x-python",
   "name": "python",
   "nbconvert_exporter": "python",
   "pygments_lexer": "ipython3",
   "version": "3.7.3"
  }
 },
 "nbformat": 4,
 "nbformat_minor": 2
}
